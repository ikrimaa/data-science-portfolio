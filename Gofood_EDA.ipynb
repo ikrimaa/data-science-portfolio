{
  "nbformat": 4,
  "nbformat_minor": 0,
  "metadata": {
    "colab": {
      "provenance": [],
      "toc_visible": true,
      "authorship_tag": "ABX9TyM8xecOSJXYrE7FhXgHYnU6",
      "include_colab_link": true
    },
    "kernelspec": {
      "name": "python3",
      "display_name": "Python 3"
    },
    "language_info": {
      "name": "python"
    }
  },
  "cells": [
    {
      "cell_type": "markdown",
      "metadata": {
        "id": "view-in-github",
        "colab_type": "text"
      },
      "source": [
        "<a href=\"https://colab.research.google.com/github/ikrimaa/data-science-portfolio/blob/main/Gofood_EDA.ipynb\" target=\"_parent\"><img src=\"https://colab.research.google.com/assets/colab-badge.svg\" alt=\"Open In Colab\"/></a>"
      ]
    },
    {
      "cell_type": "markdown",
      "source": [
        "# PREPARATION SET UP"
      ],
      "metadata": {
        "id": "3gqMCZy_g0N5"
      }
    },
    {
      "cell_type": "code",
      "execution_count": null,
      "metadata": {
        "id": "L4GnAlV0XmqC"
      },
      "outputs": [],
      "source": [
        "import pandas as pd\n",
        "import numpy as np\n",
        "import io\n",
        "import pandas as pd\n",
        "import matplotlib.pyplot as plt\n",
        "import seaborn as sns\n",
        "from google.colab import files"
      ]
    },
    {
      "cell_type": "code",
      "source": [
        "uploaded = files.upload()"
      ],
      "metadata": {
        "colab": {
          "base_uri": "https://localhost:8080/",
          "height": 94
        },
        "id": "kzpg9g5VX80B",
        "outputId": "a089e6c4-05d7-4507-f5e2-a81f7c5e7499"
      },
      "execution_count": null,
      "outputs": [
        {
          "output_type": "display_data",
          "data": {
            "text/plain": [
              "<IPython.core.display.HTML object>"
            ],
            "text/html": [
              "\n",
              "     <input type=\"file\" id=\"files-359620de-4cb6-4e17-a693-e819adcd573a\" name=\"files[]\" multiple disabled\n",
              "        style=\"border:none\" />\n",
              "     <output id=\"result-359620de-4cb6-4e17-a693-e819adcd573a\">\n",
              "      Upload widget is only available when the cell has been executed in the\n",
              "      current browser session. Please rerun this cell to enable.\n",
              "      </output>\n",
              "      <script>// Copyright 2017 Google LLC\n",
              "//\n",
              "// Licensed under the Apache License, Version 2.0 (the \"License\");\n",
              "// you may not use this file except in compliance with the License.\n",
              "// You may obtain a copy of the License at\n",
              "//\n",
              "//      http://www.apache.org/licenses/LICENSE-2.0\n",
              "//\n",
              "// Unless required by applicable law or agreed to in writing, software\n",
              "// distributed under the License is distributed on an \"AS IS\" BASIS,\n",
              "// WITHOUT WARRANTIES OR CONDITIONS OF ANY KIND, either express or implied.\n",
              "// See the License for the specific language governing permissions and\n",
              "// limitations under the License.\n",
              "\n",
              "/**\n",
              " * @fileoverview Helpers for google.colab Python module.\n",
              " */\n",
              "(function(scope) {\n",
              "function span(text, styleAttributes = {}) {\n",
              "  const element = document.createElement('span');\n",
              "  element.textContent = text;\n",
              "  for (const key of Object.keys(styleAttributes)) {\n",
              "    element.style[key] = styleAttributes[key];\n",
              "  }\n",
              "  return element;\n",
              "}\n",
              "\n",
              "// Max number of bytes which will be uploaded at a time.\n",
              "const MAX_PAYLOAD_SIZE = 100 * 1024;\n",
              "\n",
              "function _uploadFiles(inputId, outputId) {\n",
              "  const steps = uploadFilesStep(inputId, outputId);\n",
              "  const outputElement = document.getElementById(outputId);\n",
              "  // Cache steps on the outputElement to make it available for the next call\n",
              "  // to uploadFilesContinue from Python.\n",
              "  outputElement.steps = steps;\n",
              "\n",
              "  return _uploadFilesContinue(outputId);\n",
              "}\n",
              "\n",
              "// This is roughly an async generator (not supported in the browser yet),\n",
              "// where there are multiple asynchronous steps and the Python side is going\n",
              "// to poll for completion of each step.\n",
              "// This uses a Promise to block the python side on completion of each step,\n",
              "// then passes the result of the previous step as the input to the next step.\n",
              "function _uploadFilesContinue(outputId) {\n",
              "  const outputElement = document.getElementById(outputId);\n",
              "  const steps = outputElement.steps;\n",
              "\n",
              "  const next = steps.next(outputElement.lastPromiseValue);\n",
              "  return Promise.resolve(next.value.promise).then((value) => {\n",
              "    // Cache the last promise value to make it available to the next\n",
              "    // step of the generator.\n",
              "    outputElement.lastPromiseValue = value;\n",
              "    return next.value.response;\n",
              "  });\n",
              "}\n",
              "\n",
              "/**\n",
              " * Generator function which is called between each async step of the upload\n",
              " * process.\n",
              " * @param {string} inputId Element ID of the input file picker element.\n",
              " * @param {string} outputId Element ID of the output display.\n",
              " * @return {!Iterable<!Object>} Iterable of next steps.\n",
              " */\n",
              "function* uploadFilesStep(inputId, outputId) {\n",
              "  const inputElement = document.getElementById(inputId);\n",
              "  inputElement.disabled = false;\n",
              "\n",
              "  const outputElement = document.getElementById(outputId);\n",
              "  outputElement.innerHTML = '';\n",
              "\n",
              "  const pickedPromise = new Promise((resolve) => {\n",
              "    inputElement.addEventListener('change', (e) => {\n",
              "      resolve(e.target.files);\n",
              "    });\n",
              "  });\n",
              "\n",
              "  const cancel = document.createElement('button');\n",
              "  inputElement.parentElement.appendChild(cancel);\n",
              "  cancel.textContent = 'Cancel upload';\n",
              "  const cancelPromise = new Promise((resolve) => {\n",
              "    cancel.onclick = () => {\n",
              "      resolve(null);\n",
              "    };\n",
              "  });\n",
              "\n",
              "  // Wait for the user to pick the files.\n",
              "  const files = yield {\n",
              "    promise: Promise.race([pickedPromise, cancelPromise]),\n",
              "    response: {\n",
              "      action: 'starting',\n",
              "    }\n",
              "  };\n",
              "\n",
              "  cancel.remove();\n",
              "\n",
              "  // Disable the input element since further picks are not allowed.\n",
              "  inputElement.disabled = true;\n",
              "\n",
              "  if (!files) {\n",
              "    return {\n",
              "      response: {\n",
              "        action: 'complete',\n",
              "      }\n",
              "    };\n",
              "  }\n",
              "\n",
              "  for (const file of files) {\n",
              "    const li = document.createElement('li');\n",
              "    li.append(span(file.name, {fontWeight: 'bold'}));\n",
              "    li.append(span(\n",
              "        `(${file.type || 'n/a'}) - ${file.size} bytes, ` +\n",
              "        `last modified: ${\n",
              "            file.lastModifiedDate ? file.lastModifiedDate.toLocaleDateString() :\n",
              "                                    'n/a'} - `));\n",
              "    const percent = span('0% done');\n",
              "    li.appendChild(percent);\n",
              "\n",
              "    outputElement.appendChild(li);\n",
              "\n",
              "    const fileDataPromise = new Promise((resolve) => {\n",
              "      const reader = new FileReader();\n",
              "      reader.onload = (e) => {\n",
              "        resolve(e.target.result);\n",
              "      };\n",
              "      reader.readAsArrayBuffer(file);\n",
              "    });\n",
              "    // Wait for the data to be ready.\n",
              "    let fileData = yield {\n",
              "      promise: fileDataPromise,\n",
              "      response: {\n",
              "        action: 'continue',\n",
              "      }\n",
              "    };\n",
              "\n",
              "    // Use a chunked sending to avoid message size limits. See b/62115660.\n",
              "    let position = 0;\n",
              "    do {\n",
              "      const length = Math.min(fileData.byteLength - position, MAX_PAYLOAD_SIZE);\n",
              "      const chunk = new Uint8Array(fileData, position, length);\n",
              "      position += length;\n",
              "\n",
              "      const base64 = btoa(String.fromCharCode.apply(null, chunk));\n",
              "      yield {\n",
              "        response: {\n",
              "          action: 'append',\n",
              "          file: file.name,\n",
              "          data: base64,\n",
              "        },\n",
              "      };\n",
              "\n",
              "      let percentDone = fileData.byteLength === 0 ?\n",
              "          100 :\n",
              "          Math.round((position / fileData.byteLength) * 100);\n",
              "      percent.textContent = `${percentDone}% done`;\n",
              "\n",
              "    } while (position < fileData.byteLength);\n",
              "  }\n",
              "\n",
              "  // All done.\n",
              "  yield {\n",
              "    response: {\n",
              "      action: 'complete',\n",
              "    }\n",
              "  };\n",
              "}\n",
              "\n",
              "scope.google = scope.google || {};\n",
              "scope.google.colab = scope.google.colab || {};\n",
              "scope.google.colab._files = {\n",
              "  _uploadFiles,\n",
              "  _uploadFilesContinue,\n",
              "};\n",
              "})(self);\n",
              "</script> "
            ]
          },
          "metadata": {}
        },
        {
          "output_type": "stream",
          "name": "stdout",
          "text": [
            "Saving Case Study Chapter 3 Topic 1_ Dataset Gofood.csv to Case Study Chapter 3 Topic 1_ Dataset Gofood.csv\n"
          ]
        }
      ]
    },
    {
      "cell_type": "code",
      "source": [
        "df = pd.read_csv(io.BytesIO(uploaded['Case Study Chapter 3 Topic 1_ Dataset Gofood.csv']))"
      ],
      "metadata": {
        "id": "d0r3iMCQYJAb"
      },
      "execution_count": null,
      "outputs": []
    },
    {
      "cell_type": "code",
      "source": [
        "df = pd.read_csv('Case Study Chapter 3 Topic 1_ Dataset Gofood.csv')"
      ],
      "metadata": {
        "id": "gr_RY_mnmiLi"
      },
      "execution_count": null,
      "outputs": []
    },
    {
      "cell_type": "markdown",
      "source": [
        "# EDA INVESTIGATION"
      ],
      "metadata": {
        "id": "IDxAunkjwzDK"
      }
    },
    {
      "cell_type": "markdown",
      "source": [
        "## Structure"
      ],
      "metadata": {
        "id": "l2jv7AZUyk5_"
      }
    },
    {
      "cell_type": "markdown",
      "source": [
        "### Dataset Attributes"
      ],
      "metadata": {
        "id": "IO3aPVp9_1we"
      }
    },
    {
      "cell_type": "code",
      "execution_count": null,
      "metadata": {
        "id": "1goKIFs-1JxU",
        "colab": {
          "base_uri": "https://localhost:8080/"
        },
        "outputId": "8b4c1780-026e-4c32-8b46-2723e66b8bd8"
      },
      "outputs": [
        {
          "output_type": "execute_result",
          "data": {
            "text/plain": [
              "(45195, 9)"
            ]
          },
          "metadata": {},
          "execution_count": 4
        }
      ],
      "source": [
        "df.shape"
      ]
    },
    {
      "cell_type": "markdown",
      "source": [
        "Jadi kita tahu bahwa dataset ini memiliki 45195 baris dan 9 fitur. dan berapa banyak tipe data berbeda yang terkandung dalam 9 fitur ini?"
      ],
      "metadata": {
        "id": "j8bSuto1Bf7q"
      }
    },
    {
      "cell_type": "code",
      "source": [
        "#menghitung berapaka kali setiap tipe muncul pada dataset\n",
        "pd.value_counts(df.dtypes)"
      ],
      "metadata": {
        "colab": {
          "base_uri": "https://localhost:8080/"
        },
        "id": "ZL4tEiGny-Dy",
        "outputId": "51a97f56-da5c-417f-c9f8-b60ea2b49d57"
      },
      "execution_count": null,
      "outputs": [
        {
          "output_type": "execute_result",
          "data": {
            "text/plain": [
              "object     6\n",
              "float64    2\n",
              "int64      1\n",
              "dtype: int64"
            ]
          },
          "metadata": {},
          "execution_count": 5
        }
      ]
    },
    {
      "cell_type": "code",
      "source": [
        "df.columns"
      ],
      "metadata": {
        "colab": {
          "base_uri": "https://localhost:8080/"
        },
        "id": "wRKcBbD8iL8M",
        "outputId": "8d2ab3a6-2b6c-4804-961a-012cffbf16a6"
      },
      "execution_count": null,
      "outputs": [
        {
          "output_type": "execute_result",
          "data": {
            "text/plain": [
              "Index(['merchant_name', 'merchant_area', 'category', 'display', 'product',\n",
              "       'price', 'discount_price', 'isDiscount', 'description'],\n",
              "      dtype='object')"
            ]
          },
          "metadata": {},
          "execution_count": 6
        }
      ]
    },
    {
      "cell_type": "markdown",
      "source": [
        "Terdapat 3 Numeric 6 non-numerical"
      ],
      "metadata": {
        "id": "kTtAd-ilhrud"
      }
    },
    {
      "cell_type": "markdown",
      "source": [
        "##### Non-numerical Features"
      ],
      "metadata": {
        "id": "DzUR-Gk5-Wbn"
      }
    },
    {
      "cell_type": "code",
      "source": [
        "df.select_dtypes(exclude=\"number\").head()"
      ],
      "metadata": {
        "colab": {
          "base_uri": "https://localhost:8080/",
          "height": 337
        },
        "id": "QVg9LH-LzPt7",
        "outputId": "6570442d-f9f3-48ba-acf6-8cea7d0b0b7c"
      },
      "execution_count": null,
      "outputs": [
        {
          "output_type": "execute_result",
          "data": {
            "text/plain": [
              "       merchant_name merchant_area           category    display  \\\n",
              "0  330 Kopi, Ciledug       jakarta  Kopi/Minuman/Roti  Signature   \n",
              "1  330 Kopi, Ciledug       jakarta  Kopi/Minuman/Roti  Signature   \n",
              "2  330 Kopi, Ciledug       jakarta  Kopi/Minuman/Roti  Signature   \n",
              "3  330 Kopi, Ciledug       jakarta  Kopi/Minuman/Roti  Signature   \n",
              "4  330 Kopi, Ciledug       jakarta  Kopi/Minuman/Roti  Signature   \n",
              "\n",
              "                                 product  \\\n",
              "0  Hot Almara Kopi (kopi Susu Gula Aren)   \n",
              "1  Ice Almara Kopi (kopi Susu Gula Aren)   \n",
              "2                            Hot Millsis   \n",
              "3                            Ice Millsis   \n",
              "4                            Hot Millbro   \n",
              "\n",
              "                                         description  \n",
              "0  Sajian Kopi Susu Gula Aren Yang Berbeda Dari K...  \n",
              "1  Sajian Kopi Susu Gula Aren Yang Berbeda Dari K...  \n",
              "2  Sajian Susu Coklat Milo Dengan Racikan Khas 3 ...  \n",
              "3  Sajian Susu Coklat Milo Dengan Racikan Khas 3 ...  \n",
              "4  Sajian Susu Coklat Milo Plus Espresso Dengan R...  "
            ],
            "text/html": [
              "\n",
              "  <div id=\"df-b0e9d34b-0feb-4bf3-8f74-06f7f0e45977\">\n",
              "    <div class=\"colab-df-container\">\n",
              "      <div>\n",
              "<style scoped>\n",
              "    .dataframe tbody tr th:only-of-type {\n",
              "        vertical-align: middle;\n",
              "    }\n",
              "\n",
              "    .dataframe tbody tr th {\n",
              "        vertical-align: top;\n",
              "    }\n",
              "\n",
              "    .dataframe thead th {\n",
              "        text-align: right;\n",
              "    }\n",
              "</style>\n",
              "<table border=\"1\" class=\"dataframe\">\n",
              "  <thead>\n",
              "    <tr style=\"text-align: right;\">\n",
              "      <th></th>\n",
              "      <th>merchant_name</th>\n",
              "      <th>merchant_area</th>\n",
              "      <th>category</th>\n",
              "      <th>display</th>\n",
              "      <th>product</th>\n",
              "      <th>description</th>\n",
              "    </tr>\n",
              "  </thead>\n",
              "  <tbody>\n",
              "    <tr>\n",
              "      <th>0</th>\n",
              "      <td>330 Kopi, Ciledug</td>\n",
              "      <td>jakarta</td>\n",
              "      <td>Kopi/Minuman/Roti</td>\n",
              "      <td>Signature</td>\n",
              "      <td>Hot Almara Kopi (kopi Susu Gula Aren)</td>\n",
              "      <td>Sajian Kopi Susu Gula Aren Yang Berbeda Dari K...</td>\n",
              "    </tr>\n",
              "    <tr>\n",
              "      <th>1</th>\n",
              "      <td>330 Kopi, Ciledug</td>\n",
              "      <td>jakarta</td>\n",
              "      <td>Kopi/Minuman/Roti</td>\n",
              "      <td>Signature</td>\n",
              "      <td>Ice Almara Kopi (kopi Susu Gula Aren)</td>\n",
              "      <td>Sajian Kopi Susu Gula Aren Yang Berbeda Dari K...</td>\n",
              "    </tr>\n",
              "    <tr>\n",
              "      <th>2</th>\n",
              "      <td>330 Kopi, Ciledug</td>\n",
              "      <td>jakarta</td>\n",
              "      <td>Kopi/Minuman/Roti</td>\n",
              "      <td>Signature</td>\n",
              "      <td>Hot Millsis</td>\n",
              "      <td>Sajian Susu Coklat Milo Dengan Racikan Khas 3 ...</td>\n",
              "    </tr>\n",
              "    <tr>\n",
              "      <th>3</th>\n",
              "      <td>330 Kopi, Ciledug</td>\n",
              "      <td>jakarta</td>\n",
              "      <td>Kopi/Minuman/Roti</td>\n",
              "      <td>Signature</td>\n",
              "      <td>Ice Millsis</td>\n",
              "      <td>Sajian Susu Coklat Milo Dengan Racikan Khas 3 ...</td>\n",
              "    </tr>\n",
              "    <tr>\n",
              "      <th>4</th>\n",
              "      <td>330 Kopi, Ciledug</td>\n",
              "      <td>jakarta</td>\n",
              "      <td>Kopi/Minuman/Roti</td>\n",
              "      <td>Signature</td>\n",
              "      <td>Hot Millbro</td>\n",
              "      <td>Sajian Susu Coklat Milo Plus Espresso Dengan R...</td>\n",
              "    </tr>\n",
              "  </tbody>\n",
              "</table>\n",
              "</div>\n",
              "      <button class=\"colab-df-convert\" onclick=\"convertToInteractive('df-b0e9d34b-0feb-4bf3-8f74-06f7f0e45977')\"\n",
              "              title=\"Convert this dataframe to an interactive table.\"\n",
              "              style=\"display:none;\">\n",
              "        \n",
              "  <svg xmlns=\"http://www.w3.org/2000/svg\" height=\"24px\"viewBox=\"0 0 24 24\"\n",
              "       width=\"24px\">\n",
              "    <path d=\"M0 0h24v24H0V0z\" fill=\"none\"/>\n",
              "    <path d=\"M18.56 5.44l.94 2.06.94-2.06 2.06-.94-2.06-.94-.94-2.06-.94 2.06-2.06.94zm-11 1L8.5 8.5l.94-2.06 2.06-.94-2.06-.94L8.5 2.5l-.94 2.06-2.06.94zm10 10l.94 2.06.94-2.06 2.06-.94-2.06-.94-.94-2.06-.94 2.06-2.06.94z\"/><path d=\"M17.41 7.96l-1.37-1.37c-.4-.4-.92-.59-1.43-.59-.52 0-1.04.2-1.43.59L10.3 9.45l-7.72 7.72c-.78.78-.78 2.05 0 2.83L4 21.41c.39.39.9.59 1.41.59.51 0 1.02-.2 1.41-.59l7.78-7.78 2.81-2.81c.8-.78.8-2.07 0-2.86zM5.41 20L4 18.59l7.72-7.72 1.47 1.35L5.41 20z\"/>\n",
              "  </svg>\n",
              "      </button>\n",
              "      \n",
              "  <style>\n",
              "    .colab-df-container {\n",
              "      display:flex;\n",
              "      flex-wrap:wrap;\n",
              "      gap: 12px;\n",
              "    }\n",
              "\n",
              "    .colab-df-convert {\n",
              "      background-color: #E8F0FE;\n",
              "      border: none;\n",
              "      border-radius: 50%;\n",
              "      cursor: pointer;\n",
              "      display: none;\n",
              "      fill: #1967D2;\n",
              "      height: 32px;\n",
              "      padding: 0 0 0 0;\n",
              "      width: 32px;\n",
              "    }\n",
              "\n",
              "    .colab-df-convert:hover {\n",
              "      background-color: #E2EBFA;\n",
              "      box-shadow: 0px 1px 2px rgba(60, 64, 67, 0.3), 0px 1px 3px 1px rgba(60, 64, 67, 0.15);\n",
              "      fill: #174EA6;\n",
              "    }\n",
              "\n",
              "    [theme=dark] .colab-df-convert {\n",
              "      background-color: #3B4455;\n",
              "      fill: #D2E3FC;\n",
              "    }\n",
              "\n",
              "    [theme=dark] .colab-df-convert:hover {\n",
              "      background-color: #434B5C;\n",
              "      box-shadow: 0px 1px 3px 1px rgba(0, 0, 0, 0.15);\n",
              "      filter: drop-shadow(0px 1px 2px rgba(0, 0, 0, 0.3));\n",
              "      fill: #FFFFFF;\n",
              "    }\n",
              "  </style>\n",
              "\n",
              "      <script>\n",
              "        const buttonEl =\n",
              "          document.querySelector('#df-b0e9d34b-0feb-4bf3-8f74-06f7f0e45977 button.colab-df-convert');\n",
              "        buttonEl.style.display =\n",
              "          google.colab.kernel.accessAllowed ? 'block' : 'none';\n",
              "\n",
              "        async function convertToInteractive(key) {\n",
              "          const element = document.querySelector('#df-b0e9d34b-0feb-4bf3-8f74-06f7f0e45977');\n",
              "          const dataTable =\n",
              "            await google.colab.kernel.invokeFunction('convertToInteractive',\n",
              "                                                     [key], {});\n",
              "          if (!dataTable) return;\n",
              "\n",
              "          const docLinkHtml = 'Like what you see? Visit the ' +\n",
              "            '<a target=\"_blank\" href=https://colab.research.google.com/notebooks/data_table.ipynb>data table notebook</a>'\n",
              "            + ' to learn more about interactive tables.';\n",
              "          element.innerHTML = '';\n",
              "          dataTable['output_type'] = 'display_data';\n",
              "          await google.colab.output.renderOutput(dataTable, element);\n",
              "          const docLink = document.createElement('div');\n",
              "          docLink.innerHTML = docLinkHtml;\n",
              "          element.appendChild(docLink);\n",
              "        }\n",
              "      </script>\n",
              "    </div>\n",
              "  </div>\n",
              "  "
            ]
          },
          "metadata": {},
          "execution_count": 7
        }
      ]
    },
    {
      "cell_type": "code",
      "source": [
        "df.describe(exclude=\"number\")"
      ],
      "metadata": {
        "colab": {
          "base_uri": "https://localhost:8080/",
          "height": 175
        },
        "id": "PlEtzKFGznTM",
        "outputId": "26edcd9e-6f3b-4467-c85b-e370d8d71ff6"
      },
      "execution_count": null,
      "outputs": [
        {
          "output_type": "execute_result",
          "data": {
            "text/plain": [
              "                     merchant_name merchant_area category  display  \\\n",
              "count                        45195         45195    45195    45195   \n",
              "unique                         687             3      333     2986   \n",
              "top     Michelle Bakery, Cimanggis         medan     Roti  Minuman   \n",
              "freq                           474         15945     4308     1770   \n",
              "\n",
              "           product description  \n",
              "count        45195       21720  \n",
              "unique       23917       12362  \n",
              "top     Nasi Putih         Pcs  \n",
              "freq           106         252  "
            ],
            "text/html": [
              "\n",
              "  <div id=\"df-8e9678e6-f051-49a2-bce1-dbca1161bd31\">\n",
              "    <div class=\"colab-df-container\">\n",
              "      <div>\n",
              "<style scoped>\n",
              "    .dataframe tbody tr th:only-of-type {\n",
              "        vertical-align: middle;\n",
              "    }\n",
              "\n",
              "    .dataframe tbody tr th {\n",
              "        vertical-align: top;\n",
              "    }\n",
              "\n",
              "    .dataframe thead th {\n",
              "        text-align: right;\n",
              "    }\n",
              "</style>\n",
              "<table border=\"1\" class=\"dataframe\">\n",
              "  <thead>\n",
              "    <tr style=\"text-align: right;\">\n",
              "      <th></th>\n",
              "      <th>merchant_name</th>\n",
              "      <th>merchant_area</th>\n",
              "      <th>category</th>\n",
              "      <th>display</th>\n",
              "      <th>product</th>\n",
              "      <th>description</th>\n",
              "    </tr>\n",
              "  </thead>\n",
              "  <tbody>\n",
              "    <tr>\n",
              "      <th>count</th>\n",
              "      <td>45195</td>\n",
              "      <td>45195</td>\n",
              "      <td>45195</td>\n",
              "      <td>45195</td>\n",
              "      <td>45195</td>\n",
              "      <td>21720</td>\n",
              "    </tr>\n",
              "    <tr>\n",
              "      <th>unique</th>\n",
              "      <td>687</td>\n",
              "      <td>3</td>\n",
              "      <td>333</td>\n",
              "      <td>2986</td>\n",
              "      <td>23917</td>\n",
              "      <td>12362</td>\n",
              "    </tr>\n",
              "    <tr>\n",
              "      <th>top</th>\n",
              "      <td>Michelle Bakery, Cimanggis</td>\n",
              "      <td>medan</td>\n",
              "      <td>Roti</td>\n",
              "      <td>Minuman</td>\n",
              "      <td>Nasi Putih</td>\n",
              "      <td>Pcs</td>\n",
              "    </tr>\n",
              "    <tr>\n",
              "      <th>freq</th>\n",
              "      <td>474</td>\n",
              "      <td>15945</td>\n",
              "      <td>4308</td>\n",
              "      <td>1770</td>\n",
              "      <td>106</td>\n",
              "      <td>252</td>\n",
              "    </tr>\n",
              "  </tbody>\n",
              "</table>\n",
              "</div>\n",
              "      <button class=\"colab-df-convert\" onclick=\"convertToInteractive('df-8e9678e6-f051-49a2-bce1-dbca1161bd31')\"\n",
              "              title=\"Convert this dataframe to an interactive table.\"\n",
              "              style=\"display:none;\">\n",
              "        \n",
              "  <svg xmlns=\"http://www.w3.org/2000/svg\" height=\"24px\"viewBox=\"0 0 24 24\"\n",
              "       width=\"24px\">\n",
              "    <path d=\"M0 0h24v24H0V0z\" fill=\"none\"/>\n",
              "    <path d=\"M18.56 5.44l.94 2.06.94-2.06 2.06-.94-2.06-.94-.94-2.06-.94 2.06-2.06.94zm-11 1L8.5 8.5l.94-2.06 2.06-.94-2.06-.94L8.5 2.5l-.94 2.06-2.06.94zm10 10l.94 2.06.94-2.06 2.06-.94-2.06-.94-.94-2.06-.94 2.06-2.06.94z\"/><path d=\"M17.41 7.96l-1.37-1.37c-.4-.4-.92-.59-1.43-.59-.52 0-1.04.2-1.43.59L10.3 9.45l-7.72 7.72c-.78.78-.78 2.05 0 2.83L4 21.41c.39.39.9.59 1.41.59.51 0 1.02-.2 1.41-.59l7.78-7.78 2.81-2.81c.8-.78.8-2.07 0-2.86zM5.41 20L4 18.59l7.72-7.72 1.47 1.35L5.41 20z\"/>\n",
              "  </svg>\n",
              "      </button>\n",
              "      \n",
              "  <style>\n",
              "    .colab-df-container {\n",
              "      display:flex;\n",
              "      flex-wrap:wrap;\n",
              "      gap: 12px;\n",
              "    }\n",
              "\n",
              "    .colab-df-convert {\n",
              "      background-color: #E8F0FE;\n",
              "      border: none;\n",
              "      border-radius: 50%;\n",
              "      cursor: pointer;\n",
              "      display: none;\n",
              "      fill: #1967D2;\n",
              "      height: 32px;\n",
              "      padding: 0 0 0 0;\n",
              "      width: 32px;\n",
              "    }\n",
              "\n",
              "    .colab-df-convert:hover {\n",
              "      background-color: #E2EBFA;\n",
              "      box-shadow: 0px 1px 2px rgba(60, 64, 67, 0.3), 0px 1px 3px 1px rgba(60, 64, 67, 0.15);\n",
              "      fill: #174EA6;\n",
              "    }\n",
              "\n",
              "    [theme=dark] .colab-df-convert {\n",
              "      background-color: #3B4455;\n",
              "      fill: #D2E3FC;\n",
              "    }\n",
              "\n",
              "    [theme=dark] .colab-df-convert:hover {\n",
              "      background-color: #434B5C;\n",
              "      box-shadow: 0px 1px 3px 1px rgba(0, 0, 0, 0.15);\n",
              "      filter: drop-shadow(0px 1px 2px rgba(0, 0, 0, 0.3));\n",
              "      fill: #FFFFFF;\n",
              "    }\n",
              "  </style>\n",
              "\n",
              "      <script>\n",
              "        const buttonEl =\n",
              "          document.querySelector('#df-8e9678e6-f051-49a2-bce1-dbca1161bd31 button.colab-df-convert');\n",
              "        buttonEl.style.display =\n",
              "          google.colab.kernel.accessAllowed ? 'block' : 'none';\n",
              "\n",
              "        async function convertToInteractive(key) {\n",
              "          const element = document.querySelector('#df-8e9678e6-f051-49a2-bce1-dbca1161bd31');\n",
              "          const dataTable =\n",
              "            await google.colab.kernel.invokeFunction('convertToInteractive',\n",
              "                                                     [key], {});\n",
              "          if (!dataTable) return;\n",
              "\n",
              "          const docLinkHtml = 'Like what you see? Visit the ' +\n",
              "            '<a target=\"_blank\" href=https://colab.research.google.com/notebooks/data_table.ipynb>data table notebook</a>'\n",
              "            + ' to learn more about interactive tables.';\n",
              "          element.innerHTML = '';\n",
              "          dataTable['output_type'] = 'display_data';\n",
              "          await google.colab.output.renderOutput(dataTable, element);\n",
              "          const docLink = document.createElement('div');\n",
              "          docLink.innerHTML = docLinkHtml;\n",
              "          element.appendChild(docLink);\n",
              "        }\n",
              "      </script>\n",
              "    </div>\n",
              "  </div>\n",
              "  "
            ]
          },
          "metadata": {},
          "execution_count": 8
        }
      ]
    },
    {
      "cell_type": "markdown",
      "source": [
        "##### Numerical Features"
      ],
      "metadata": {
        "id": "ZD7HQATV-x_n"
      }
    },
    {
      "cell_type": "markdown",
      "source": [
        "Proses ini melihat berapa banyak nilai unik yang dimiliki masing-masing fitur numeriknya. Proses akan memberikan beberapa wawasan tentang jumlah fitur biner (2 nilai unik), ordinal (3 hingga ~10 nilai unik) dan kontinu (lebih dari 10 nilai unik) dalam kumpulan data."
      ],
      "metadata": {
        "id": "QjqE04CvETBY"
      }
    },
    {
      "cell_type": "code",
      "source": [
        "# For each numerical feature compute number of unique entries\n",
        "unique_values = df.select_dtypes(include=\"number\").nunique().sort_values()\n",
        "\n",
        "# Plot information with y-axis in log-scale\n",
        "unique_values.plot.bar( logy=True, figsize=(15, 4), title=\"Unique values per feature\");"
      ],
      "metadata": {
        "id": "m3n__ZpUz8Aw",
        "outputId": "24584737-efa7-4237-e6e1-8af0e41b3f5d",
        "colab": {
          "base_uri": "https://localhost:8080/",
          "height": 338
        }
      },
      "execution_count": null,
      "outputs": [
        {
          "output_type": "display_data",
          "data": {
            "text/plain": [
              "<Figure size 1500x400 with 1 Axes>"
            ],
            "image/png": "[encoded data removed]"
          },
          "metadata": {}
        }
      ]
    },
    {
      "cell_type": "markdown",
      "source": [
        "## Quality"
      ],
      "metadata": {
        "id": "SsschII4AlPz"
      }
    },
    {
      "cell_type": "code",
      "source": [
        "df.info()"
      ],
      "metadata": {
        "colab": {
          "base_uri": "https://localhost:8080/"
        },
        "id": "4h3rhrHLQJWe",
        "outputId": "c92bb0d6-2432-427b-81a6-a2ab2c44e247"
      },
      "execution_count": null,
      "outputs": [
        {
          "output_type": "stream",
          "name": "stdout",
          "text": [
            "<class 'pandas.core.frame.DataFrame'>\n",
            "RangeIndex: 45195 entries, 0 to 45194\n",
            "Data columns (total 9 columns):\n",
            " #   Column          Non-Null Count  Dtype  \n",
            "---  ------          --------------  -----  \n",
            " 0   merchant_name   45195 non-null  object \n",
            " 1   merchant_area   45195 non-null  object \n",
            " 2   category        45195 non-null  object \n",
            " 3   display         45195 non-null  object \n",
            " 4   product         45195 non-null  object \n",
            " 5   price           45195 non-null  float64\n",
            " 6   discount_price  2738 non-null   float64\n",
            " 7   isDiscount      45195 non-null  int64  \n",
            " 8   description     21720 non-null  object \n",
            "dtypes: float64(2), int64(1), object(6)\n",
            "memory usage: 3.1+ MB\n"
          ]
        }
      ]
    },
    {
      "cell_type": "markdown",
      "source": [
        "### Check Duplicate"
      ],
      "metadata": {
        "id": "x_AKOBCm3tpW"
      }
    },
    {
      "cell_type": "code",
      "source": [
        "# Check number of duplicates while ignoring the index feature\n",
        "n_duplicates = df.drop(labels=[\"merchant_name\"], axis=1).duplicated().sum()\n",
        "print(f\"Sepertinya Anda memiliki {n_duplicates} duplikat pada dataset.\")"
      ],
      "metadata": {
        "colab": {
          "base_uri": "https://localhost:8080/"
        },
        "id": "mWOq-uk7_A6e",
        "outputId": "87adf137-1176-425f-c56a-0aed6f7f9160"
      },
      "execution_count": null,
      "outputs": [
        {
          "output_type": "stream",
          "name": "stdout",
          "text": [
            "Sepertinya Anda memiliki 8915 duplikat pada dataset.\n"
          ]
        }
      ]
    },
    {
      "cell_type": "markdown",
      "source": [
        "dari hasil tersebut, maka dibutuhkan handle duplicate pada tahap preprocessing"
      ],
      "metadata": {
        "id": "frdY6PgyF1rC"
      }
    },
    {
      "cell_type": "markdown",
      "source": [
        "### Missing Value"
      ],
      "metadata": {
        "id": "zBcXSqj23xa8"
      }
    },
    {
      "cell_type": "markdown",
      "source": [
        "##### Per-sample"
      ],
      "metadata": {
        "id": "eyYqUDcL332x"
      }
    },
    {
      "cell_type": "code",
      "source": [
        "df.isna().sum()"
      ],
      "metadata": {
        "colab": {
          "base_uri": "https://localhost:8080/"
        },
        "id": "uC3DnYl_DBrW",
        "outputId": "32ffd3e9-3275-4491-b55a-31ef0ff14198"
      },
      "execution_count": null,
      "outputs": [
        {
          "output_type": "execute_result",
          "data": {
            "text/plain": [
              "merchant_name         0\n",
              "merchant_area         0\n",
              "category              0\n",
              "display               0\n",
              "product               0\n",
              "price                 0\n",
              "discount_price    42457\n",
              "isDiscount            0\n",
              "description       23475\n",
              "dtype: int64"
            ]
          },
          "metadata": {},
          "execution_count": 16
        }
      ]
    },
    {
      "cell_type": "code",
      "source": [
        "plt.figure(figsize=(10, 8))\n",
        "plt.imshow(df.isna(), aspect=\"auto\", interpolation=\"nearest\", cmap=\"gray\")\n",
        "plt.xlabel(\"Column Number\")\n",
        "plt.ylabel(\"Sample Number\");"
      ],
      "metadata": {
        "colab": {
          "base_uri": "https://localhost:8080/",
          "height": 686
        },
        "id": "QjfgFVp9M0X7",
        "outputId": "6b63c9ca-b730-42da-e3eb-7d5dcb5d84eb"
      },
      "execution_count": null,
      "outputs": [
        {
          "output_type": "display_data",
          "data": {
            "text/plain": [
              "<Figure size 1000x800 with 1 Axes>"
            ],
            "image/png": "[encoded data removed]"
          },
          "metadata": {}
        }
      ]
    },
    {
      "cell_type": "markdown",
      "source": [
        "##### Per-features"
      ],
      "metadata": {
        "id": "2bBTEPvZ4JYe"
      }
    },
    {
      "cell_type": "code",
      "source": [
        "df.isna().mean().sort_values().plot(\n",
        "    kind=\"bar\", figsize=(15, 4),\n",
        "    title=\"Percentage of missing values per feature\",\n",
        "    ylabel=\"Ratio of missing values per feature\");"
      ],
      "metadata": {
        "colab": {
          "base_uri": "https://localhost:8080/",
          "height": 343
        },
        "id": "c3GeARb9DkO4",
        "outputId": "a5ec7163-2de1-4e15-af37-43c6fef99730"
      },
      "execution_count": null,
      "outputs": [
        {
          "output_type": "display_data",
          "data": {
            "text/plain": [
              "<Figure size 1500x400 with 1 Axes>"
            ],
            "image/png": "[encoded data removed]"
          },
          "metadata": {}
        }
      ]
    },
    {
      "cell_type": "markdown",
      "source": [
        "## Content"
      ],
      "metadata": {
        "id": "4sbB84G6AqOB"
      }
    },
    {
      "cell_type": "markdown",
      "source": [
        "### Preprocessing"
      ],
      "metadata": {
        "id": "TfGsxBIuVKKd"
      }
    },
    {
      "cell_type": "code",
      "source": [
        "\n",
        "df[['brand','location']] = df['merchant_name'].str.split(',',expand=True,n=2)\n",
        "# df.drop(['discount_price','description'],axis=1,inplace=True)\n",
        "df.info()"
      ],
      "metadata": {
        "colab": {
          "base_uri": "https://localhost:8080/"
        },
        "id": "hXMDiRkpS0Ra",
        "outputId": "f5d441e6-4212-43eb-9545-d614cb9e979a"
      },
      "execution_count": null,
      "outputs": [
        {
          "output_type": "stream",
          "name": "stdout",
          "text": [
            "<class 'pandas.core.frame.DataFrame'>\n",
            "RangeIndex: 45195 entries, 0 to 45194\n",
            "Data columns (total 11 columns):\n",
            " #   Column          Non-Null Count  Dtype  \n",
            "---  ------          --------------  -----  \n",
            " 0   merchant_name   45195 non-null  object \n",
            " 1   merchant_area   45195 non-null  object \n",
            " 2   category        45195 non-null  object \n",
            " 3   display         45195 non-null  object \n",
            " 4   product         45195 non-null  object \n",
            " 5   price           45195 non-null  float64\n",
            " 6   discount_price  2738 non-null   float64\n",
            " 7   isDiscount      45195 non-null  int64  \n",
            " 8   description     21720 non-null  object \n",
            " 9   brand           45195 non-null  object \n",
            " 10  location        32385 non-null  object \n",
            "dtypes: float64(2), int64(1), object(8)\n",
            "memory usage: 3.8+ MB\n"
          ]
        }
      ]
    },
    {
      "cell_type": "markdown",
      "source": [
        "### Gofood Revenue By Merchant Area\n",
        "*without discount price"
      ],
      "metadata": {
        "id": "HwcJNOecRd8P"
      }
    },
    {
      "cell_type": "code",
      "source": [
        "dftotal = df.groupby(['merchant_area']).sum().sort_values(by = 'price', ascending=False)\n",
        "dftotal = dftotal.reset_index()\n",
        "  \n",
        "# plot barplot\n",
        "sns.barplot(x = \"price\", y = \"merchant_area\", data = df)\n",
        "plt.title(\"Revenue Merchant Area Gofood ***withoutdiscount_price**\")"
      ],
      "metadata": {
        "colab": {
          "base_uri": "https://localhost:8080/",
          "height": 490
        },
        "id": "IOulSJhkRi65",
        "outputId": "96d46715-4543-4c31-c97f-ce132b32faf0"
      },
      "execution_count": null,
      "outputs": [
        {
          "output_type": "execute_result",
          "data": {
            "text/plain": [
              "Text(0.5, 1.0, 'Revenue Merchant Area Gofood ***withoutdiscount_price**')"
            ]
          },
          "metadata": {},
          "execution_count": 27
        },
        {
          "output_type": "display_data",
          "data": {
            "text/plain": [
              "<Figure size 640x480 with 1 Axes>"
            ],
            "image/png": "[encoded data removed]"
          },
          "metadata": {}
        }
      ]
    },
    {
      "cell_type": "markdown",
      "source": [
        "### Gofood Revenue By Brand"
      ],
      "metadata": {
        "id": "iKGLAanrfnW5"
      }
    },
    {
      "cell_type": "code",
      "source": [
        "df_jkt = df[df['merchant_area'].str.contains('jakarta')]\n",
        "df_jkt = df_jkt.groupby(['brand']).sum().sort_values(by = 'price', ascending=False)\n",
        "df_jkt.head(10).plot(kind='bar')\n",
        "plt.title(\"TOP 10 Gofood Brand revenue in Jakarta\")"
      ],
      "metadata": {
        "colab": {
          "base_uri": "https://localhost:8080/",
          "height": 616
        },
        "id": "Alt0WP1lfuxr",
        "outputId": "f8e08736-925b-4eb3-9d8f-03a678f43cae"
      },
      "execution_count": null,
      "outputs": [
        {
          "output_type": "execute_result",
          "data": {
            "text/plain": [
              "Text(0.5, 1.0, 'TOP 10 Brand revenue at Gofood')"
            ]
          },
          "metadata": {},
          "execution_count": 84
        },
        {
          "output_type": "display_data",
          "data": {
            "text/plain": [
              "<Figure size 640x480 with 1 Axes>"
            ],
            "image/png": "[encoded data removed]"
          },
          "metadata": {}
        }
      ]
    },
    {
      "cell_type": "code",
      "source": [
        "df_sby = df[df['merchant_area'].str.contains('surabaya')]\n",
        "df_sby = df_sby.groupby(['brand']).sum().sort_values(by = 'price', ascending=False)\n",
        "df_sby.head(10).plot(kind='bar')\n",
        "plt.title(\"TOP 10 Gofood Brand revenue in Surabaya\")"
      ],
      "metadata": {
        "colab": {
          "base_uri": "https://localhost:8080/",
          "height": 654
        },
        "id": "MXYoUUmujW5C",
        "outputId": "eb595412-e68c-4461-e835-262025b50d87"
      },
      "execution_count": null,
      "outputs": [
        {
          "output_type": "execute_result",
          "data": {
            "text/plain": [
              "Text(0.5, 1.0, 'TOP 10 Gofood Brand revenue in Surabaya')"
            ]
          },
          "metadata": {},
          "execution_count": 85
        },
        {
          "output_type": "display_data",
          "data": {
            "text/plain": [
              "<Figure size 640x480 with 1 Axes>"
            ],
            "image/png": "[encoded data removed]"
          },
          "metadata": {}
        }
      ]
    },
    {
      "cell_type": "code",
      "source": [
        "df_mdn = df[df['merchant_area'].str.contains('medan')]\n",
        "df_mdn = df_mdn.groupby(['brand']).sum().sort_values(by = 'price', ascending=False)\n",
        "df_mdn.head(10).plot(kind='bar')\n",
        "plt.title(\"TOP 10 Gofood Brand revenue in Medan\")"
      ],
      "metadata": {
        "colab": {
          "base_uri": "https://localhost:8080/",
          "height": 652
        },
        "outputId": "45dd9896-4a65-4144-8385-8f93446eb188",
        "id": "YlE556NljhBk"
      },
      "execution_count": null,
      "outputs": [
        {
          "output_type": "execute_result",
          "data": {
            "text/plain": [
              "Text(0.5, 1.0, 'TOP 10 Gofood Brand revenue in Medan')"
            ]
          },
          "metadata": {},
          "execution_count": 87
        },
        {
          "output_type": "display_data",
          "data": {
            "text/plain": [
              "<Figure size 640x480 with 1 Axes>"
            ],
            "image/png": "[encoded data removed]"
          },
          "metadata": {}
        }
      ]
    },
    {
      "cell_type": "markdown",
      "source": [
        "### Most Brand Repeat Order"
      ],
      "metadata": {
        "id": "1BlAtjMYSgsb"
      }
    },
    {
      "cell_type": "code",
      "source": [
        "most_brand= pd.DataFrame(df.groupby('merchant_area')['brand'].value_counts().unstack(fill_value=0).T)"
      ],
      "metadata": {
        "id": "DrTLPIp7SlP8"
      },
      "execution_count": null,
      "outputs": []
    },
    {
      "cell_type": "code",
      "source": [
        "jkt = most_brand.sort_values(['jakarta'],ascending=False).head(5)\n",
        "mdn = most_brand.sort_values(['medan'],ascending=False).head(5)\n",
        "sby = most_brand.sort_values(['surabaya'],ascending=False).head(5)"
      ],
      "metadata": {
        "id": "Kuw1dk-sUxGG"
      },
      "execution_count": null,
      "outputs": []
    },
    {
      "cell_type": "code",
      "source": [
        "display('Jakarta most Brand repeat order ? ', jkt)\n",
        "jkt.plot(kind='bar')"
      ],
      "metadata": {
        "colab": {
          "base_uri": "https://localhost:8080/",
          "height": 802
        },
        "id": "3leUHhc-U58_",
        "outputId": "ddcc16c7-17bd-4cf3-cf62-cc797c8fc19b"
      },
      "execution_count": null,
      "outputs": [
        {
          "output_type": "display_data",
          "data": {
            "text/plain": [
              "'Jakarta most Brand repeat order ? '"
            ],
            "application/vnd.google.colaboratory.intrinsic+json": {
              "type": "string"
            }
          },
          "metadata": {}
        },
        {
          "output_type": "display_data",
          "data": {
            "text/plain": [
              "merchant_area    jakarta  medan  surabaya\n",
              "brand                                    \n",
              "Lawson              1795      0         0\n",
              "McDonald's           905    125       250\n",
              "Dapur Cokelat        549      0         0\n",
              "Michelle Bakery      474      0         0\n",
              "KFC                  393    400        63"
            ],
            "text/html": [
              "\n",
              "  <div id=\"df-6fc4e163-fa18-47bb-82ea-3cea96f235c8\">\n",
              "    <div class=\"colab-df-container\">\n",
              "      <div>\n",
              "<style scoped>\n",
              "    .dataframe tbody tr th:only-of-type {\n",
              "        vertical-align: middle;\n",
              "    }\n",
              "\n",
              "    .dataframe tbody tr th {\n",
              "        vertical-align: top;\n",
              "    }\n",
              "\n",
              "    .dataframe thead th {\n",
              "        text-align: right;\n",
              "    }\n",
              "</style>\n",
              "<table border=\"1\" class=\"dataframe\">\n",
              "  <thead>\n",
              "    <tr style=\"text-align: right;\">\n",
              "      <th>merchant_area</th>\n",
              "      <th>jakarta</th>\n",
              "      <th>medan</th>\n",
              "      <th>surabaya</th>\n",
              "    </tr>\n",
              "    <tr>\n",
              "      <th>brand</th>\n",
              "      <th></th>\n",
              "      <th></th>\n",
              "      <th></th>\n",
              "    </tr>\n",
              "  </thead>\n",
              "  <tbody>\n",
              "    <tr>\n",
              "      <th>Lawson</th>\n",
              "      <td>1795</td>\n",
              "      <td>0</td>\n",
              "      <td>0</td>\n",
              "    </tr>\n",
              "    <tr>\n",
              "      <th>McDonald's</th>\n",
              "      <td>905</td>\n",
              "      <td>125</td>\n",
              "      <td>250</td>\n",
              "    </tr>\n",
              "    <tr>\n",
              "      <th>Dapur Cokelat</th>\n",
              "      <td>549</td>\n",
              "      <td>0</td>\n",
              "      <td>0</td>\n",
              "    </tr>\n",
              "    <tr>\n",
              "      <th>Michelle Bakery</th>\n",
              "      <td>474</td>\n",
              "      <td>0</td>\n",
              "      <td>0</td>\n",
              "    </tr>\n",
              "    <tr>\n",
              "      <th>KFC</th>\n",
              "      <td>393</td>\n",
              "      <td>400</td>\n",
              "      <td>63</td>\n",
              "    </tr>\n",
              "  </tbody>\n",
              "</table>\n",
              "</div>\n",
              "      <button class=\"colab-df-convert\" onclick=\"convertToInteractive('df-6fc4e163-fa18-47bb-82ea-3cea96f235c8')\"\n",
              "              title=\"Convert this dataframe to an interactive table.\"\n",
              "              style=\"display:none;\">\n",
              "        \n",
              "  <svg xmlns=\"http://www.w3.org/2000/svg\" height=\"24px\"viewBox=\"0 0 24 24\"\n",
              "       width=\"24px\">\n",
              "    <path d=\"M0 0h24v24H0V0z\" fill=\"none\"/>\n",
              "    <path d=\"M18.56 5.44l.94 2.06.94-2.06 2.06-.94-2.06-.94-.94-2.06-.94 2.06-2.06.94zm-11 1L8.5 8.5l.94-2.06 2.06-.94-2.06-.94L8.5 2.5l-.94 2.06-2.06.94zm10 10l.94 2.06.94-2.06 2.06-.94-2.06-.94-.94-2.06-.94 2.06-2.06.94z\"/><path d=\"M17.41 7.96l-1.37-1.37c-.4-.4-.92-.59-1.43-.59-.52 0-1.04.2-1.43.59L10.3 9.45l-7.72 7.72c-.78.78-.78 2.05 0 2.83L4 21.41c.39.39.9.59 1.41.59.51 0 1.02-.2 1.41-.59l7.78-7.78 2.81-2.81c.8-.78.8-2.07 0-2.86zM5.41 20L4 18.59l7.72-7.72 1.47 1.35L5.41 20z\"/>\n",
              "  </svg>\n",
              "      </button>\n",
              "      \n",
              "  <style>\n",
              "    .colab-df-container {\n",
              "      display:flex;\n",
              "      flex-wrap:wrap;\n",
              "      gap: 12px;\n",
              "    }\n",
              "\n",
              "    .colab-df-convert {\n",
              "      background-color: #E8F0FE;\n",
              "      border: none;\n",
              "      border-radius: 50%;\n",
              "      cursor: pointer;\n",
              "      display: none;\n",
              "      fill: #1967D2;\n",
              "      height: 32px;\n",
              "      padding: 0 0 0 0;\n",
              "      width: 32px;\n",
              "    }\n",
              "\n",
              "    .colab-df-convert:hover {\n",
              "      background-color: #E2EBFA;\n",
              "      box-shadow: 0px 1px 2px rgba(60, 64, 67, 0.3), 0px 1px 3px 1px rgba(60, 64, 67, 0.15);\n",
              "      fill: #174EA6;\n",
              "    }\n",
              "\n",
              "    [theme=dark] .colab-df-convert {\n",
              "      background-color: #3B4455;\n",
              "      fill: #D2E3FC;\n",
              "    }\n",
              "\n",
              "    [theme=dark] .colab-df-convert:hover {\n",
              "      background-color: #434B5C;\n",
              "      box-shadow: 0px 1px 3px 1px rgba(0, 0, 0, 0.15);\n",
              "      filter: drop-shadow(0px 1px 2px rgba(0, 0, 0, 0.3));\n",
              "      fill: #FFFFFF;\n",
              "    }\n",
              "  </style>\n",
              "\n",
              "      <script>\n",
              "        const buttonEl =\n",
              "          document.querySelector('#df-6fc4e163-fa18-47bb-82ea-3cea96f235c8 button.colab-df-convert');\n",
              "        buttonEl.style.display =\n",
              "          google.colab.kernel.accessAllowed ? 'block' : 'none';\n",
              "\n",
              "        async function convertToInteractive(key) {\n",
              "          const element = document.querySelector('#df-6fc4e163-fa18-47bb-82ea-3cea96f235c8');\n",
              "          const dataTable =\n",
              "            await google.colab.kernel.invokeFunction('convertToInteractive',\n",
              "                                                     [key], {});\n",
              "          if (!dataTable) return;\n",
              "\n",
              "          const docLinkHtml = 'Like what you see? Visit the ' +\n",
              "            '<a target=\"_blank\" href=https://colab.research.google.com/notebooks/data_table.ipynb>data table notebook</a>'\n",
              "            + ' to learn more about interactive tables.';\n",
              "          element.innerHTML = '';\n",
              "          dataTable['output_type'] = 'display_data';\n",
              "          await google.colab.output.renderOutput(dataTable, element);\n",
              "          const docLink = document.createElement('div');\n",
              "          docLink.innerHTML = docLinkHtml;\n",
              "          element.appendChild(docLink);\n",
              "        }\n",
              "      </script>\n",
              "    </div>\n",
              "  </div>\n",
              "  "
            ]
          },
          "metadata": {}
        },
        {
          "output_type": "execute_result",
          "data": {
            "text/plain": [
              "<Axes: xlabel='brand'>"
            ]
          },
          "metadata": {},
          "execution_count": 32
        },
        {
          "output_type": "display_data",
          "data": {
            "text/plain": [
              "<Figure size 640x480 with 1 Axes>"
            ],
            "image/png": "[encoded data removed]"
          },
          "metadata": {}
        }
      ]
    },
    {
      "cell_type": "code",
      "source": [
        "display('Medan most Brand repeat order ? ', mdn)\n",
        "mdn.plot(kind='bar')"
      ],
      "metadata": {
        "colab": {
          "base_uri": "https://localhost:8080/",
          "height": 840
        },
        "id": "5rwyi8YlVSuI",
        "outputId": "0561ffef-b6b1-4853-d495-357d742a0a6d"
      },
      "execution_count": null,
      "outputs": [
        {
          "output_type": "display_data",
          "data": {
            "text/plain": [
              "'Medan most Brand repeat order ? '"
            ],
            "application/vnd.google.colaboratory.intrinsic+json": {
              "type": "string"
            }
          },
          "metadata": {}
        },
        {
          "output_type": "display_data",
          "data": {
            "text/plain": [
              "merchant_area        jakarta  medan  surabaya\n",
              "brand                                        \n",
              "Choco Bakery               0    592         0\n",
              "Bika Ambon Zulaikha        0    435         0\n",
              "Zeribowl                   0    426         0\n",
              "Fritto Chicken             0    400         0\n",
              "KFC                      393    400        63"
            ],
            "text/html": [
              "\n",
              "  <div id=\"df-d1aa9cd7-b6df-4d52-b28d-905c1b17b1de\">\n",
              "    <div class=\"colab-df-container\">\n",
              "      <div>\n",
              "<style scoped>\n",
              "    .dataframe tbody tr th:only-of-type {\n",
              "        vertical-align: middle;\n",
              "    }\n",
              "\n",
              "    .dataframe tbody tr th {\n",
              "        vertical-align: top;\n",
              "    }\n",
              "\n",
              "    .dataframe thead th {\n",
              "        text-align: right;\n",
              "    }\n",
              "</style>\n",
              "<table border=\"1\" class=\"dataframe\">\n",
              "  <thead>\n",
              "    <tr style=\"text-align: right;\">\n",
              "      <th>merchant_area</th>\n",
              "      <th>jakarta</th>\n",
              "      <th>medan</th>\n",
              "      <th>surabaya</th>\n",
              "    </tr>\n",
              "    <tr>\n",
              "      <th>brand</th>\n",
              "      <th></th>\n",
              "      <th></th>\n",
              "      <th></th>\n",
              "    </tr>\n",
              "  </thead>\n",
              "  <tbody>\n",
              "    <tr>\n",
              "      <th>Choco Bakery</th>\n",
              "      <td>0</td>\n",
              "      <td>592</td>\n",
              "      <td>0</td>\n",
              "    </tr>\n",
              "    <tr>\n",
              "      <th>Bika Ambon Zulaikha</th>\n",
              "      <td>0</td>\n",
              "      <td>435</td>\n",
              "      <td>0</td>\n",
              "    </tr>\n",
              "    <tr>\n",
              "      <th>Zeribowl</th>\n",
              "      <td>0</td>\n",
              "      <td>426</td>\n",
              "      <td>0</td>\n",
              "    </tr>\n",
              "    <tr>\n",
              "      <th>Fritto Chicken</th>\n",
              "      <td>0</td>\n",
              "      <td>400</td>\n",
              "      <td>0</td>\n",
              "    </tr>\n",
              "    <tr>\n",
              "      <th>KFC</th>\n",
              "      <td>393</td>\n",
              "      <td>400</td>\n",
              "      <td>63</td>\n",
              "    </tr>\n",
              "  </tbody>\n",
              "</table>\n",
              "</div>\n",
              "      <button class=\"colab-df-convert\" onclick=\"convertToInteractive('df-d1aa9cd7-b6df-4d52-b28d-905c1b17b1de')\"\n",
              "              title=\"Convert this dataframe to an interactive table.\"\n",
              "              style=\"display:none;\">\n",
              "        \n",
              "  <svg xmlns=\"http://www.w3.org/2000/svg\" height=\"24px\"viewBox=\"0 0 24 24\"\n",
              "       width=\"24px\">\n",
              "    <path d=\"M0 0h24v24H0V0z\" fill=\"none\"/>\n",
              "    <path d=\"M18.56 5.44l.94 2.06.94-2.06 2.06-.94-2.06-.94-.94-2.06-.94 2.06-2.06.94zm-11 1L8.5 8.5l.94-2.06 2.06-.94-2.06-.94L8.5 2.5l-.94 2.06-2.06.94zm10 10l.94 2.06.94-2.06 2.06-.94-2.06-.94-.94-2.06-.94 2.06-2.06.94z\"/><path d=\"M17.41 7.96l-1.37-1.37c-.4-.4-.92-.59-1.43-.59-.52 0-1.04.2-1.43.59L10.3 9.45l-7.72 7.72c-.78.78-.78 2.05 0 2.83L4 21.41c.39.39.9.59 1.41.59.51 0 1.02-.2 1.41-.59l7.78-7.78 2.81-2.81c.8-.78.8-2.07 0-2.86zM5.41 20L4 18.59l7.72-7.72 1.47 1.35L5.41 20z\"/>\n",
              "  </svg>\n",
              "      </button>\n",
              "      \n",
              "  <style>\n",
              "    .colab-df-container {\n",
              "      display:flex;\n",
              "      flex-wrap:wrap;\n",
              "      gap: 12px;\n",
              "    }\n",
              "\n",
              "    .colab-df-convert {\n",
              "      background-color: #E8F0FE;\n",
              "      border: none;\n",
              "      border-radius: 50%;\n",
              "      cursor: pointer;\n",
              "      display: none;\n",
              "      fill: #1967D2;\n",
              "      height: 32px;\n",
              "      padding: 0 0 0 0;\n",
              "      width: 32px;\n",
              "    }\n",
              "\n",
              "    .colab-df-convert:hover {\n",
              "      background-color: #E2EBFA;\n",
              "      box-shadow: 0px 1px 2px rgba(60, 64, 67, 0.3), 0px 1px 3px 1px rgba(60, 64, 67, 0.15);\n",
              "      fill: #174EA6;\n",
              "    }\n",
              "\n",
              "    [theme=dark] .colab-df-convert {\n",
              "      background-color: #3B4455;\n",
              "      fill: #D2E3FC;\n",
              "    }\n",
              "\n",
              "    [theme=dark] .colab-df-convert:hover {\n",
              "      background-color: #434B5C;\n",
              "      box-shadow: 0px 1px 3px 1px rgba(0, 0, 0, 0.15);\n",
              "      filter: drop-shadow(0px 1px 2px rgba(0, 0, 0, 0.3));\n",
              "      fill: #FFFFFF;\n",
              "    }\n",
              "  </style>\n",
              "\n",
              "      <script>\n",
              "        const buttonEl =\n",
              "          document.querySelector('#df-d1aa9cd7-b6df-4d52-b28d-905c1b17b1de button.colab-df-convert');\n",
              "        buttonEl.style.display =\n",
              "          google.colab.kernel.accessAllowed ? 'block' : 'none';\n",
              "\n",
              "        async function convertToInteractive(key) {\n",
              "          const element = document.querySelector('#df-d1aa9cd7-b6df-4d52-b28d-905c1b17b1de');\n",
              "          const dataTable =\n",
              "            await google.colab.kernel.invokeFunction('convertToInteractive',\n",
              "                                                     [key], {});\n",
              "          if (!dataTable) return;\n",
              "\n",
              "          const docLinkHtml = 'Like what you see? Visit the ' +\n",
              "            '<a target=\"_blank\" href=https://colab.research.google.com/notebooks/data_table.ipynb>data table notebook</a>'\n",
              "            + ' to learn more about interactive tables.';\n",
              "          element.innerHTML = '';\n",
              "          dataTable['output_type'] = 'display_data';\n",
              "          await google.colab.output.renderOutput(dataTable, element);\n",
              "          const docLink = document.createElement('div');\n",
              "          docLink.innerHTML = docLinkHtml;\n",
              "          element.appendChild(docLink);\n",
              "        }\n",
              "      </script>\n",
              "    </div>\n",
              "  </div>\n",
              "  "
            ]
          },
          "metadata": {}
        },
        {
          "output_type": "execute_result",
          "data": {
            "text/plain": [
              "<Axes: xlabel='brand'>"
            ]
          },
          "metadata": {},
          "execution_count": 33
        },
        {
          "output_type": "display_data",
          "data": {
            "text/plain": [
              "<Figure size 640x480 with 1 Axes>"
            ],
            "image/png": "[encoded data removed]"
          },
          "metadata": {}
        }
      ]
    },
    {
      "cell_type": "code",
      "source": [
        "display('Surabaya most Brand repeat order ? ', sby)\n",
        "sby.plot(kind='bar')"
      ],
      "metadata": {
        "colab": {
          "base_uri": "https://localhost:8080/",
          "height": 798
        },
        "id": "ZnifQNc1Z1Q-",
        "outputId": "5924d192-d4f6-4b6b-947d-352e2278ef76"
      },
      "execution_count": null,
      "outputs": [
        {
          "output_type": "display_data",
          "data": {
            "text/plain": [
              "'Surabaya most Brand repeat order ? '"
            ],
            "application/vnd.google.colaboratory.intrinsic+json": {
              "type": "string"
            }
          },
          "metadata": {}
        },
        {
          "output_type": "display_data",
          "data": {
            "text/plain": [
              "merchant_area   jakarta  medan  surabaya\n",
              "brand                                   \n",
              "Holland Bakery      240      0       594\n",
              "Kampoeng Roti         0      0       331\n",
              "Haus!                 0      0       273\n",
              "Satria Roti           0      0       257\n",
              "Warung Pindo          0      0       254"
            ],
            "text/html": [
              "\n",
              "  <div id=\"df-66e0b147-0c38-405f-ad92-2f9f13a441fa\">\n",
              "    <div class=\"colab-df-container\">\n",
              "      <div>\n",
              "<style scoped>\n",
              "    .dataframe tbody tr th:only-of-type {\n",
              "        vertical-align: middle;\n",
              "    }\n",
              "\n",
              "    .dataframe tbody tr th {\n",
              "        vertical-align: top;\n",
              "    }\n",
              "\n",
              "    .dataframe thead th {\n",
              "        text-align: right;\n",
              "    }\n",
              "</style>\n",
              "<table border=\"1\" class=\"dataframe\">\n",
              "  <thead>\n",
              "    <tr style=\"text-align: right;\">\n",
              "      <th>merchant_area</th>\n",
              "      <th>jakarta</th>\n",
              "      <th>medan</th>\n",
              "      <th>surabaya</th>\n",
              "    </tr>\n",
              "    <tr>\n",
              "      <th>brand</th>\n",
              "      <th></th>\n",
              "      <th></th>\n",
              "      <th></th>\n",
              "    </tr>\n",
              "  </thead>\n",
              "  <tbody>\n",
              "    <tr>\n",
              "      <th>Holland Bakery</th>\n",
              "      <td>240</td>\n",
              "      <td>0</td>\n",
              "      <td>594</td>\n",
              "    </tr>\n",
              "    <tr>\n",
              "      <th>Kampoeng Roti</th>\n",
              "      <td>0</td>\n",
              "      <td>0</td>\n",
              "      <td>331</td>\n",
              "    </tr>\n",
              "    <tr>\n",
              "      <th>Haus!</th>\n",
              "      <td>0</td>\n",
              "      <td>0</td>\n",
              "      <td>273</td>\n",
              "    </tr>\n",
              "    <tr>\n",
              "      <th>Satria Roti</th>\n",
              "      <td>0</td>\n",
              "      <td>0</td>\n",
              "      <td>257</td>\n",
              "    </tr>\n",
              "    <tr>\n",
              "      <th>Warung Pindo</th>\n",
              "      <td>0</td>\n",
              "      <td>0</td>\n",
              "      <td>254</td>\n",
              "    </tr>\n",
              "  </tbody>\n",
              "</table>\n",
              "</div>\n",
              "      <button class=\"colab-df-convert\" onclick=\"convertToInteractive('df-66e0b147-0c38-405f-ad92-2f9f13a441fa')\"\n",
              "              title=\"Convert this dataframe to an interactive table.\"\n",
              "              style=\"display:none;\">\n",
              "        \n",
              "  <svg xmlns=\"http://www.w3.org/2000/svg\" height=\"24px\"viewBox=\"0 0 24 24\"\n",
              "       width=\"24px\">\n",
              "    <path d=\"M0 0h24v24H0V0z\" fill=\"none\"/>\n",
              "    <path d=\"M18.56 5.44l.94 2.06.94-2.06 2.06-.94-2.06-.94-.94-2.06-.94 2.06-2.06.94zm-11 1L8.5 8.5l.94-2.06 2.06-.94-2.06-.94L8.5 2.5l-.94 2.06-2.06.94zm10 10l.94 2.06.94-2.06 2.06-.94-2.06-.94-.94-2.06-.94 2.06-2.06.94z\"/><path d=\"M17.41 7.96l-1.37-1.37c-.4-.4-.92-.59-1.43-.59-.52 0-1.04.2-1.43.59L10.3 9.45l-7.72 7.72c-.78.78-.78 2.05 0 2.83L4 21.41c.39.39.9.59 1.41.59.51 0 1.02-.2 1.41-.59l7.78-7.78 2.81-2.81c.8-.78.8-2.07 0-2.86zM5.41 20L4 18.59l7.72-7.72 1.47 1.35L5.41 20z\"/>\n",
              "  </svg>\n",
              "      </button>\n",
              "      \n",
              "  <style>\n",
              "    .colab-df-container {\n",
              "      display:flex;\n",
              "      flex-wrap:wrap;\n",
              "      gap: 12px;\n",
              "    }\n",
              "\n",
              "    .colab-df-convert {\n",
              "      background-color: #E8F0FE;\n",
              "      border: none;\n",
              "      border-radius: 50%;\n",
              "      cursor: pointer;\n",
              "      display: none;\n",
              "      fill: #1967D2;\n",
              "      height: 32px;\n",
              "      padding: 0 0 0 0;\n",
              "      width: 32px;\n",
              "    }\n",
              "\n",
              "    .colab-df-convert:hover {\n",
              "      background-color: #E2EBFA;\n",
              "      box-shadow: 0px 1px 2px rgba(60, 64, 67, 0.3), 0px 1px 3px 1px rgba(60, 64, 67, 0.15);\n",
              "      fill: #174EA6;\n",
              "    }\n",
              "\n",
              "    [theme=dark] .colab-df-convert {\n",
              "      background-color: #3B4455;\n",
              "      fill: #D2E3FC;\n",
              "    }\n",
              "\n",
              "    [theme=dark] .colab-df-convert:hover {\n",
              "      background-color: #434B5C;\n",
              "      box-shadow: 0px 1px 3px 1px rgba(0, 0, 0, 0.15);\n",
              "      filter: drop-shadow(0px 1px 2px rgba(0, 0, 0, 0.3));\n",
              "      fill: #FFFFFF;\n",
              "    }\n",
              "  </style>\n",
              "\n",
              "      <script>\n",
              "        const buttonEl =\n",
              "          document.querySelector('#df-66e0b147-0c38-405f-ad92-2f9f13a441fa button.colab-df-convert');\n",
              "        buttonEl.style.display =\n",
              "          google.colab.kernel.accessAllowed ? 'block' : 'none';\n",
              "\n",
              "        async function convertToInteractive(key) {\n",
              "          const element = document.querySelector('#df-66e0b147-0c38-405f-ad92-2f9f13a441fa');\n",
              "          const dataTable =\n",
              "            await google.colab.kernel.invokeFunction('convertToInteractive',\n",
              "                                                     [key], {});\n",
              "          if (!dataTable) return;\n",
              "\n",
              "          const docLinkHtml = 'Like what you see? Visit the ' +\n",
              "            '<a target=\"_blank\" href=https://colab.research.google.com/notebooks/data_table.ipynb>data table notebook</a>'\n",
              "            + ' to learn more about interactive tables.';\n",
              "          element.innerHTML = '';\n",
              "          dataTable['output_type'] = 'display_data';\n",
              "          await google.colab.output.renderOutput(dataTable, element);\n",
              "          const docLink = document.createElement('div');\n",
              "          docLink.innerHTML = docLinkHtml;\n",
              "          element.appendChild(docLink);\n",
              "        }\n",
              "      </script>\n",
              "    </div>\n",
              "  </div>\n",
              "  "
            ]
          },
          "metadata": {}
        },
        {
          "output_type": "execute_result",
          "data": {
            "text/plain": [
              "<Axes: xlabel='brand'>"
            ]
          },
          "metadata": {},
          "execution_count": 34
        },
        {
          "output_type": "display_data",
          "data": {
            "text/plain": [
              "<Figure size 640x480 with 1 Axes>"
            ],
            "image/png": "[encoded data removed]"
          },
          "metadata": {}
        }
      ]
    },
    {
      "cell_type": "markdown",
      "source": [
        "### Most Product By Category"
      ],
      "metadata": {
        "id": "-cNo5egBZ1rr"
      }
    },
    {
      "cell_type": "code",
      "source": [
        "data_category = df.copy()\n",
        "data_category[['category1','category2','category3','category4','category5']] = data_category['category'].str.split('/',expand=True,n=5)\n",
        "     "
      ],
      "metadata": {
        "id": "n7qgecOUaLov"
      },
      "execution_count": null,
      "outputs": []
    },
    {
      "cell_type": "code",
      "source": [
        "cat1 = data_category['category1'].unique().tolist()\n",
        "cat2 = data_category['category2'].unique().tolist()\n",
        "cat3 = data_category['category3'].unique().tolist()\n",
        "cat4 = data_category['category4'].unique().tolist()\n",
        "cat5 = data_category['category5'].unique().tolist()\n",
        "\n",
        "cat = cat1 + cat2 + cat3 + cat4 + cat5\n",
        "cat = list(set(cat))\n",
        "cat = [x for x in cat if x is not None]\n",
        "print(cat)"
      ],
      "metadata": {
        "colab": {
          "base_uri": "https://localhost:8080/"
        },
        "id": "hnX4ClcTaQaU",
        "outputId": "448d73d8-0cd7-4dfe-cf85-3a6399559322"
      },
      "execution_count": null,
      "outputs": [
        {
          "output_type": "stream",
          "name": "stdout",
          "text": [
            "['Sweets', 'Minuman', 'Chinese', 'Aneka nasi', 'Roti', 'Seafood', 'India', 'Korea', 'Thailand', 'Bakso & soto', 'Ayam & bebek', 'Martabak', 'Jepang', 'Kopi', 'Cepat saji', 'Pizza & pasta', 'Sate', 'Barat', 'Timur Tengah', 'Jajanan', 'Bakmie']\n"
          ]
        }
      ]
    },
    {
      "cell_type": "code",
      "source": [
        "city = df['merchant_area'].unique()\n",
        "kota = []\n",
        "kategori = []\n",
        "jenis_produk = []\n",
        "\n",
        "for i in city:\n",
        "  data_city = df[df.merchant_area==i]\n",
        "  for j in cat:\n",
        "    jenis_produk.append(data_city[data_city.category.str.startswith(j)]['product'].value_counts().sort_values(ascending=False)[:5].index.tolist())\n",
        "    kota.append(i)\n",
        "    kategori.append(j)\n",
        "    #jlh_merchant.append(n)\n",
        "    #print('kota {} jumlah merchent brand {} sebanyak {}'.format(i,j,n))\n",
        "\n",
        "df = pd.DataFrame(list(zip(kota, kategori, jenis_produk)),columns =['Kota', 'Kategori', 'Jenis Produk'])\n",
        "     "
      ],
      "metadata": {
        "id": "1bMke6yEZ5Ak"
      },
      "execution_count": null,
      "outputs": []
    },
    {
      "cell_type": "code",
      "source": [
        "jkt = df[df.Kota=='jakarta']\n",
        "display('Jakarta most Produk by Kategori ?', jkt)\n",
        "print('\\n')\n",
        "mdn = df[df.Kota=='medan']\n",
        "display('Medan most Produk by Kategori ?', mdn)\n",
        "print('\\n')\n",
        "sby = df[df.Kota=='surabaya']\n",
        "display('Surabaya most Produk by Kategori ?', sby)"
      ],
      "metadata": {
        "colab": {
          "base_uri": "https://localhost:8080/",
          "height": 1000
        },
        "id": "XawDtrmseitp",
        "outputId": "f51b3f8f-8e3c-4233-e9ec-0d0e1549340d"
      },
      "execution_count": null,
      "outputs": [
        {
          "output_type": "display_data",
          "data": {
            "text/plain": [
              "'Jakarta most Produk by Kategori ?'"
            ],
            "application/vnd.google.colaboratory.intrinsic+json": {
              "type": "string"
            }
          },
          "metadata": {}
        },
        {
          "output_type": "display_data",
          "data": {
            "text/plain": [
              "       Kota       Kategori                                       Jenis Produk\n",
              "0   jakarta         Sweets  [Mango Cassata, Triple Decker, Red Velvet, Ope...\n",
              "1   jakarta        Minuman  [Red Velvet, Lychee Tea, Vanilla Latte, Peach ...\n",
              "2   jakarta        Chinese  [Tiam MIE, TiamMie, Nasi Goreng Sapi, Kwetiaw ...\n",
              "3   jakarta     Aneka nasi  [Ice Matcha Latte, Nasi, French Fries, Samosa,...\n",
              "4   jakarta           Roti  [Cappuccino, Chicken Floss Top, Americano, Cho...\n",
              "5   jakarta        Seafood  [Bebek Goreng, Bebek Belur Cabe Ijo, Cumi Tumi...\n",
              "6   jakarta          India  [Trio Wrap Favorite, Japanese Curry Chicken Ri...\n",
              "7   jakarta          Korea  [Kimchi, Nasi Putih, Mineral Water, Jeyuk Bokk...\n",
              "8   jakarta       Thailand                                                 []\n",
              "9   jakarta   Bakso & soto  [Jus Jambu, Soda Susu, Jus Mangga, Jus Alpukat...\n",
              "10  jakarta   Ayam & bebek  [Nasi Putih, French Fries, Red Velvet, Butter ...\n",
              "11  jakarta       Martabak  [Spesial 8 Rasa, Ovomaltine Full Toping, Cadbu...\n",
              "12  jakarta         Jepang  [Udon, You C1000 Orange Water Pet500Ml, Tuna E...\n",
              "13  jakarta           Kopi  [Lychee Tea, French Fries, Hazelnut Latte, Car...\n",
              "14  jakarta     Cepat saji  [Paket Hemat Big Mac, Medium, PaHeBat Cheesebu...\n",
              "15  jakarta  Pizza & pasta  [Corn Pizza, Creamy Chicken & Mushroom Pisto, ...\n",
              "16  jakarta           Sate  [Crispy Roast Pork, Christmast Hampers By Hogh...\n",
              "17  jakarta          Barat  [Coca Cola, Sprite, French Fries, Orange Juice...\n",
              "18  jakarta   Timur Tengah                                                 []\n",
              "19  jakarta        Jajanan  [Lychee Tea, Sosis Bakar Jumbo, Ice Matcha Lat...\n",
              "20  jakarta         Bakmie  [Bakmi Rebus Kalimantan, Spicy Cheese Soup, Na..."
            ],
            "text/html": [
              "\n",
              "  <div id=\"df-b994dcdb-d764-4901-8b64-80f0ed457a84\">\n",
              "    <div class=\"colab-df-container\">\n",
              "      <div>\n",
              "<style scoped>\n",
              "    .dataframe tbody tr th:only-of-type {\n",
              "        vertical-align: middle;\n",
              "    }\n",
              "\n",
              "    .dataframe tbody tr th {\n",
              "        vertical-align: top;\n",
              "    }\n",
              "\n",
              "    .dataframe thead th {\n",
              "        text-align: right;\n",
              "    }\n",
              "</style>\n",
              "<table border=\"1\" class=\"dataframe\">\n",
              "  <thead>\n",
              "    <tr style=\"text-align: right;\">\n",
              "      <th></th>\n",
              "      <th>Kota</th>\n",
              "      <th>Kategori</th>\n",
              "      <th>Jenis Produk</th>\n",
              "    </tr>\n",
              "  </thead>\n",
              "  <tbody>\n",
              "    <tr>\n",
              "      <th>0</th>\n",
              "      <td>jakarta</td>\n",
              "      <td>Sweets</td>\n",
              "      <td>[Mango Cassata, Triple Decker, Red Velvet, Ope...</td>\n",
              "    </tr>\n",
              "    <tr>\n",
              "      <th>1</th>\n",
              "      <td>jakarta</td>\n",
              "      <td>Minuman</td>\n",
              "      <td>[Red Velvet, Lychee Tea, Vanilla Latte, Peach ...</td>\n",
              "    </tr>\n",
              "    <tr>\n",
              "      <th>2</th>\n",
              "      <td>jakarta</td>\n",
              "      <td>Chinese</td>\n",
              "      <td>[Tiam MIE, TiamMie, Nasi Goreng Sapi, Kwetiaw ...</td>\n",
              "    </tr>\n",
              "    <tr>\n",
              "      <th>3</th>\n",
              "      <td>jakarta</td>\n",
              "      <td>Aneka nasi</td>\n",
              "      <td>[Ice Matcha Latte, Nasi, French Fries, Samosa,...</td>\n",
              "    </tr>\n",
              "    <tr>\n",
              "      <th>4</th>\n",
              "      <td>jakarta</td>\n",
              "      <td>Roti</td>\n",
              "      <td>[Cappuccino, Chicken Floss Top, Americano, Cho...</td>\n",
              "    </tr>\n",
              "    <tr>\n",
              "      <th>5</th>\n",
              "      <td>jakarta</td>\n",
              "      <td>Seafood</td>\n",
              "      <td>[Bebek Goreng, Bebek Belur Cabe Ijo, Cumi Tumi...</td>\n",
              "    </tr>\n",
              "    <tr>\n",
              "      <th>6</th>\n",
              "      <td>jakarta</td>\n",
              "      <td>India</td>\n",
              "      <td>[Trio Wrap Favorite, Japanese Curry Chicken Ri...</td>\n",
              "    </tr>\n",
              "    <tr>\n",
              "      <th>7</th>\n",
              "      <td>jakarta</td>\n",
              "      <td>Korea</td>\n",
              "      <td>[Kimchi, Nasi Putih, Mineral Water, Jeyuk Bokk...</td>\n",
              "    </tr>\n",
              "    <tr>\n",
              "      <th>8</th>\n",
              "      <td>jakarta</td>\n",
              "      <td>Thailand</td>\n",
              "      <td>[]</td>\n",
              "    </tr>\n",
              "    <tr>\n",
              "      <th>9</th>\n",
              "      <td>jakarta</td>\n",
              "      <td>Bakso &amp; soto</td>\n",
              "      <td>[Jus Jambu, Soda Susu, Jus Mangga, Jus Alpukat...</td>\n",
              "    </tr>\n",
              "    <tr>\n",
              "      <th>10</th>\n",
              "      <td>jakarta</td>\n",
              "      <td>Ayam &amp; bebek</td>\n",
              "      <td>[Nasi Putih, French Fries, Red Velvet, Butter ...</td>\n",
              "    </tr>\n",
              "    <tr>\n",
              "      <th>11</th>\n",
              "      <td>jakarta</td>\n",
              "      <td>Martabak</td>\n",
              "      <td>[Spesial 8 Rasa, Ovomaltine Full Toping, Cadbu...</td>\n",
              "    </tr>\n",
              "    <tr>\n",
              "      <th>12</th>\n",
              "      <td>jakarta</td>\n",
              "      <td>Jepang</td>\n",
              "      <td>[Udon, You C1000 Orange Water Pet500Ml, Tuna E...</td>\n",
              "    </tr>\n",
              "    <tr>\n",
              "      <th>13</th>\n",
              "      <td>jakarta</td>\n",
              "      <td>Kopi</td>\n",
              "      <td>[Lychee Tea, French Fries, Hazelnut Latte, Car...</td>\n",
              "    </tr>\n",
              "    <tr>\n",
              "      <th>14</th>\n",
              "      <td>jakarta</td>\n",
              "      <td>Cepat saji</td>\n",
              "      <td>[Paket Hemat Big Mac, Medium, PaHeBat Cheesebu...</td>\n",
              "    </tr>\n",
              "    <tr>\n",
              "      <th>15</th>\n",
              "      <td>jakarta</td>\n",
              "      <td>Pizza &amp; pasta</td>\n",
              "      <td>[Corn Pizza, Creamy Chicken &amp; Mushroom Pisto, ...</td>\n",
              "    </tr>\n",
              "    <tr>\n",
              "      <th>16</th>\n",
              "      <td>jakarta</td>\n",
              "      <td>Sate</td>\n",
              "      <td>[Crispy Roast Pork, Christmast Hampers By Hogh...</td>\n",
              "    </tr>\n",
              "    <tr>\n",
              "      <th>17</th>\n",
              "      <td>jakarta</td>\n",
              "      <td>Barat</td>\n",
              "      <td>[Coca Cola, Sprite, French Fries, Orange Juice...</td>\n",
              "    </tr>\n",
              "    <tr>\n",
              "      <th>18</th>\n",
              "      <td>jakarta</td>\n",
              "      <td>Timur Tengah</td>\n",
              "      <td>[]</td>\n",
              "    </tr>\n",
              "    <tr>\n",
              "      <th>19</th>\n",
              "      <td>jakarta</td>\n",
              "      <td>Jajanan</td>\n",
              "      <td>[Lychee Tea, Sosis Bakar Jumbo, Ice Matcha Lat...</td>\n",
              "    </tr>\n",
              "    <tr>\n",
              "      <th>20</th>\n",
              "      <td>jakarta</td>\n",
              "      <td>Bakmie</td>\n",
              "      <td>[Bakmi Rebus Kalimantan, Spicy Cheese Soup, Na...</td>\n",
              "    </tr>\n",
              "  </tbody>\n",
              "</table>\n",
              "</div>\n",
              "      <button class=\"colab-df-convert\" onclick=\"convertToInteractive('df-b994dcdb-d764-4901-8b64-80f0ed457a84')\"\n",
              "              title=\"Convert this dataframe to an interactive table.\"\n",
              "              style=\"display:none;\">\n",
              "        \n",
              "  <svg xmlns=\"http://www.w3.org/2000/svg\" height=\"24px\"viewBox=\"0 0 24 24\"\n",
              "       width=\"24px\">\n",
              "    <path d=\"M0 0h24v24H0V0z\" fill=\"none\"/>\n",
              "    <path d=\"M18.56 5.44l.94 2.06.94-2.06 2.06-.94-2.06-.94-.94-2.06-.94 2.06-2.06.94zm-11 1L8.5 8.5l.94-2.06 2.06-.94-2.06-.94L8.5 2.5l-.94 2.06-2.06.94zm10 10l.94 2.06.94-2.06 2.06-.94-2.06-.94-.94-2.06-.94 2.06-2.06.94z\"/><path d=\"M17.41 7.96l-1.37-1.37c-.4-.4-.92-.59-1.43-.59-.52 0-1.04.2-1.43.59L10.3 9.45l-7.72 7.72c-.78.78-.78 2.05 0 2.83L4 21.41c.39.39.9.59 1.41.59.51 0 1.02-.2 1.41-.59l7.78-7.78 2.81-2.81c.8-.78.8-2.07 0-2.86zM5.41 20L4 18.59l7.72-7.72 1.47 1.35L5.41 20z\"/>\n",
              "  </svg>\n",
              "      </button>\n",
              "      \n",
              "  <style>\n",
              "    .colab-df-container {\n",
              "      display:flex;\n",
              "      flex-wrap:wrap;\n",
              "      gap: 12px;\n",
              "    }\n",
              "\n",
              "    .colab-df-convert {\n",
              "      background-color: #E8F0FE;\n",
              "      border: none;\n",
              "      border-radius: 50%;\n",
              "      cursor: pointer;\n",
              "      display: none;\n",
              "      fill: #1967D2;\n",
              "      height: 32px;\n",
              "      padding: 0 0 0 0;\n",
              "      width: 32px;\n",
              "    }\n",
              "\n",
              "    .colab-df-convert:hover {\n",
              "      background-color: #E2EBFA;\n",
              "      box-shadow: 0px 1px 2px rgba(60, 64, 67, 0.3), 0px 1px 3px 1px rgba(60, 64, 67, 0.15);\n",
              "      fill: #174EA6;\n",
              "    }\n",
              "\n",
              "    [theme=dark] .colab-df-convert {\n",
              "      background-color: #3B4455;\n",
              "      fill: #D2E3FC;\n",
              "    }\n",
              "\n",
              "    [theme=dark] .colab-df-convert:hover {\n",
              "      background-color: #434B5C;\n",
              "      box-shadow: 0px 1px 3px 1px rgba(0, 0, 0, 0.15);\n",
              "      filter: drop-shadow(0px 1px 2px rgba(0, 0, 0, 0.3));\n",
              "      fill: #FFFFFF;\n",
              "    }\n",
              "  </style>\n",
              "\n",
              "      <script>\n",
              "        const buttonEl =\n",
              "          document.querySelector('#df-b994dcdb-d764-4901-8b64-80f0ed457a84 button.colab-df-convert');\n",
              "        buttonEl.style.display =\n",
              "          google.colab.kernel.accessAllowed ? 'block' : 'none';\n",
              "\n",
              "        async function convertToInteractive(key) {\n",
              "          const element = document.querySelector('#df-b994dcdb-d764-4901-8b64-80f0ed457a84');\n",
              "          const dataTable =\n",
              "            await google.colab.kernel.invokeFunction('convertToInteractive',\n",
              "                                                     [key], {});\n",
              "          if (!dataTable) return;\n",
              "\n",
              "          const docLinkHtml = 'Like what you see? Visit the ' +\n",
              "            '<a target=\"_blank\" href=https://colab.research.google.com/notebooks/data_table.ipynb>data table notebook</a>'\n",
              "            + ' to learn more about interactive tables.';\n",
              "          element.innerHTML = '';\n",
              "          dataTable['output_type'] = 'display_data';\n",
              "          await google.colab.output.renderOutput(dataTable, element);\n",
              "          const docLink = document.createElement('div');\n",
              "          docLink.innerHTML = docLinkHtml;\n",
              "          element.appendChild(docLink);\n",
              "        }\n",
              "      </script>\n",
              "    </div>\n",
              "  </div>\n",
              "  "
            ]
          },
          "metadata": {}
        },
        {
          "output_type": "stream",
          "name": "stdout",
          "text": [
            "\n",
            "\n"
          ]
        },
        {
          "output_type": "display_data",
          "data": {
            "text/plain": [
              "'Medan most Produk setiap Kategori ='"
            ],
            "application/vnd.google.colaboratory.intrinsic+json": {
              "type": "string"
            }
          },
          "metadata": {}
        },
        {
          "output_type": "display_data",
          "data": {
            "text/plain": [
              "     Kota       Kategori                                       Jenis Produk\n",
              "21  medan         Sweets  [Combo 1., Iced Black Tea, Combo 3, Combo 4, L...\n",
              "22  medan        Minuman  [Lemon Tea, Americano, Taro, French Fries, Red...\n",
              "23  medan        Chinese  [Khua Chai Phui (Tersedia Di Hari Sabtu), Hokk...\n",
              "24  medan     Aneka nasi  [Nasi Putih, Nasi Goreng Telur, Kentang Goreng...\n",
              "25  medan           Roti  [Abon Ayam, Tawar Cake Coklat, Mocca, Pizza Bu...\n",
              "26  medan        Seafood  [Nasi Putih, Cumi Goreng Tepung, Bihun Goreng ...\n",
              "27  medan          India  [Martabak Telur Ayam ( 2 Telur ), Martabak Tel...\n",
              "28  medan          Korea  [Paket Mozzarella Choco + Mozzarella Tiramisu,...\n",
              "29  medan       Thailand  [Tropical Appleberries, Tropical Orangeberries...\n",
              "30  medan   Bakso & soto  [Juice Terong Belanda, Juice Kuini, Juice Jeru...\n",
              "31  medan   Ayam & bebek  [Nasi Putih, WHOLE CHICKEN MADU, KULIT, Nasi G...\n",
              "32  medan       Martabak  [Red Manggo, Nasi Ayam Sambal Gempor + Telor C...\n",
              "33  medan         Jepang  [Ocha, M1. Salmon Skin Maki, C5. Tako Sushi / ...\n",
              "34  medan           Kopi  [Kentang Goreng, Americano, Nasi Goreng Specia...\n",
              "35  medan     Cepat saji  [Perkedel, Spaghetti Deluxe, Taro, Golden Comb...\n",
              "36  medan  Pizza & pasta  [Chicken Thai With Rice, Pizza Meat Lover (15m...\n",
              "37  medan           Sate  [Ayam Penyet Cabe Ijo + Nasi + Teh Manis Dingi...\n",
              "38  medan          Barat  [Sprite, Coca Cola, Mineral Water 330 Ml, Frie...\n",
              "39  medan   Timur Tengah                                                 []\n",
              "40  medan        Jajanan  [Kentang Goreng, Nasi Goreng Telur, Sanger Hot...\n",
              "41  medan         Bakmie  [Teh Manis Panas, Teh Manis Dingin, Telur Dada..."
            ],
            "text/html": [
              "\n",
              "  <div id=\"df-db2b48ac-2c3b-42e6-92f7-af38a6b97da1\">\n",
              "    <div class=\"colab-df-container\">\n",
              "      <div>\n",
              "<style scoped>\n",
              "    .dataframe tbody tr th:only-of-type {\n",
              "        vertical-align: middle;\n",
              "    }\n",
              "\n",
              "    .dataframe tbody tr th {\n",
              "        vertical-align: top;\n",
              "    }\n",
              "\n",
              "    .dataframe thead th {\n",
              "        text-align: right;\n",
              "    }\n",
              "</style>\n",
              "<table border=\"1\" class=\"dataframe\">\n",
              "  <thead>\n",
              "    <tr style=\"text-align: right;\">\n",
              "      <th></th>\n",
              "      <th>Kota</th>\n",
              "      <th>Kategori</th>\n",
              "      <th>Jenis Produk</th>\n",
              "    </tr>\n",
              "  </thead>\n",
              "  <tbody>\n",
              "    <tr>\n",
              "      <th>21</th>\n",
              "      <td>medan</td>\n",
              "      <td>Sweets</td>\n",
              "      <td>[Combo 1., Iced Black Tea, Combo 3, Combo 4, L...</td>\n",
              "    </tr>\n",
              "    <tr>\n",
              "      <th>22</th>\n",
              "      <td>medan</td>\n",
              "      <td>Minuman</td>\n",
              "      <td>[Lemon Tea, Americano, Taro, French Fries, Red...</td>\n",
              "    </tr>\n",
              "    <tr>\n",
              "      <th>23</th>\n",
              "      <td>medan</td>\n",
              "      <td>Chinese</td>\n",
              "      <td>[Khua Chai Phui (Tersedia Di Hari Sabtu), Hokk...</td>\n",
              "    </tr>\n",
              "    <tr>\n",
              "      <th>24</th>\n",
              "      <td>medan</td>\n",
              "      <td>Aneka nasi</td>\n",
              "      <td>[Nasi Putih, Nasi Goreng Telur, Kentang Goreng...</td>\n",
              "    </tr>\n",
              "    <tr>\n",
              "      <th>25</th>\n",
              "      <td>medan</td>\n",
              "      <td>Roti</td>\n",
              "      <td>[Abon Ayam, Tawar Cake Coklat, Mocca, Pizza Bu...</td>\n",
              "    </tr>\n",
              "    <tr>\n",
              "      <th>26</th>\n",
              "      <td>medan</td>\n",
              "      <td>Seafood</td>\n",
              "      <td>[Nasi Putih, Cumi Goreng Tepung, Bihun Goreng ...</td>\n",
              "    </tr>\n",
              "    <tr>\n",
              "      <th>27</th>\n",
              "      <td>medan</td>\n",
              "      <td>India</td>\n",
              "      <td>[Martabak Telur Ayam ( 2 Telur ), Martabak Tel...</td>\n",
              "    </tr>\n",
              "    <tr>\n",
              "      <th>28</th>\n",
              "      <td>medan</td>\n",
              "      <td>Korea</td>\n",
              "      <td>[Paket Mozzarella Choco + Mozzarella Tiramisu,...</td>\n",
              "    </tr>\n",
              "    <tr>\n",
              "      <th>29</th>\n",
              "      <td>medan</td>\n",
              "      <td>Thailand</td>\n",
              "      <td>[Tropical Appleberries, Tropical Orangeberries...</td>\n",
              "    </tr>\n",
              "    <tr>\n",
              "      <th>30</th>\n",
              "      <td>medan</td>\n",
              "      <td>Bakso &amp; soto</td>\n",
              "      <td>[Juice Terong Belanda, Juice Kuini, Juice Jeru...</td>\n",
              "    </tr>\n",
              "    <tr>\n",
              "      <th>31</th>\n",
              "      <td>medan</td>\n",
              "      <td>Ayam &amp; bebek</td>\n",
              "      <td>[Nasi Putih, WHOLE CHICKEN MADU, KULIT, Nasi G...</td>\n",
              "    </tr>\n",
              "    <tr>\n",
              "      <th>32</th>\n",
              "      <td>medan</td>\n",
              "      <td>Martabak</td>\n",
              "      <td>[Red Manggo, Nasi Ayam Sambal Gempor + Telor C...</td>\n",
              "    </tr>\n",
              "    <tr>\n",
              "      <th>33</th>\n",
              "      <td>medan</td>\n",
              "      <td>Jepang</td>\n",
              "      <td>[Ocha, M1. Salmon Skin Maki, C5. Tako Sushi / ...</td>\n",
              "    </tr>\n",
              "    <tr>\n",
              "      <th>34</th>\n",
              "      <td>medan</td>\n",
              "      <td>Kopi</td>\n",
              "      <td>[Kentang Goreng, Americano, Nasi Goreng Specia...</td>\n",
              "    </tr>\n",
              "    <tr>\n",
              "      <th>35</th>\n",
              "      <td>medan</td>\n",
              "      <td>Cepat saji</td>\n",
              "      <td>[Perkedel, Spaghetti Deluxe, Taro, Golden Comb...</td>\n",
              "    </tr>\n",
              "    <tr>\n",
              "      <th>36</th>\n",
              "      <td>medan</td>\n",
              "      <td>Pizza &amp; pasta</td>\n",
              "      <td>[Chicken Thai With Rice, Pizza Meat Lover (15m...</td>\n",
              "    </tr>\n",
              "    <tr>\n",
              "      <th>37</th>\n",
              "      <td>medan</td>\n",
              "      <td>Sate</td>\n",
              "      <td>[Ayam Penyet Cabe Ijo + Nasi + Teh Manis Dingi...</td>\n",
              "    </tr>\n",
              "    <tr>\n",
              "      <th>38</th>\n",
              "      <td>medan</td>\n",
              "      <td>Barat</td>\n",
              "      <td>[Sprite, Coca Cola, Mineral Water 330 Ml, Frie...</td>\n",
              "    </tr>\n",
              "    <tr>\n",
              "      <th>39</th>\n",
              "      <td>medan</td>\n",
              "      <td>Timur Tengah</td>\n",
              "      <td>[]</td>\n",
              "    </tr>\n",
              "    <tr>\n",
              "      <th>40</th>\n",
              "      <td>medan</td>\n",
              "      <td>Jajanan</td>\n",
              "      <td>[Kentang Goreng, Nasi Goreng Telur, Sanger Hot...</td>\n",
              "    </tr>\n",
              "    <tr>\n",
              "      <th>41</th>\n",
              "      <td>medan</td>\n",
              "      <td>Bakmie</td>\n",
              "      <td>[Teh Manis Panas, Teh Manis Dingin, Telur Dada...</td>\n",
              "    </tr>\n",
              "  </tbody>\n",
              "</table>\n",
              "</div>\n",
              "      <button class=\"colab-df-convert\" onclick=\"convertToInteractive('df-db2b48ac-2c3b-42e6-92f7-af38a6b97da1')\"\n",
              "              title=\"Convert this dataframe to an interactive table.\"\n",
              "              style=\"display:none;\">\n",
              "        \n",
              "  <svg xmlns=\"http://www.w3.org/2000/svg\" height=\"24px\"viewBox=\"0 0 24 24\"\n",
              "       width=\"24px\">\n",
              "    <path d=\"M0 0h24v24H0V0z\" fill=\"none\"/>\n",
              "    <path d=\"M18.56 5.44l.94 2.06.94-2.06 2.06-.94-2.06-.94-.94-2.06-.94 2.06-2.06.94zm-11 1L8.5 8.5l.94-2.06 2.06-.94-2.06-.94L8.5 2.5l-.94 2.06-2.06.94zm10 10l.94 2.06.94-2.06 2.06-.94-2.06-.94-.94-2.06-.94 2.06-2.06.94z\"/><path d=\"M17.41 7.96l-1.37-1.37c-.4-.4-.92-.59-1.43-.59-.52 0-1.04.2-1.43.59L10.3 9.45l-7.72 7.72c-.78.78-.78 2.05 0 2.83L4 21.41c.39.39.9.59 1.41.59.51 0 1.02-.2 1.41-.59l7.78-7.78 2.81-2.81c.8-.78.8-2.07 0-2.86zM5.41 20L4 18.59l7.72-7.72 1.47 1.35L5.41 20z\"/>\n",
              "  </svg>\n",
              "      </button>\n",
              "      \n",
              "  <style>\n",
              "    .colab-df-container {\n",
              "      display:flex;\n",
              "      flex-wrap:wrap;\n",
              "      gap: 12px;\n",
              "    }\n",
              "\n",
              "    .colab-df-convert {\n",
              "      background-color: #E8F0FE;\n",
              "      border: none;\n",
              "      border-radius: 50%;\n",
              "      cursor: pointer;\n",
              "      display: none;\n",
              "      fill: #1967D2;\n",
              "      height: 32px;\n",
              "      padding: 0 0 0 0;\n",
              "      width: 32px;\n",
              "    }\n",
              "\n",
              "    .colab-df-convert:hover {\n",
              "      background-color: #E2EBFA;\n",
              "      box-shadow: 0px 1px 2px rgba(60, 64, 67, 0.3), 0px 1px 3px 1px rgba(60, 64, 67, 0.15);\n",
              "      fill: #174EA6;\n",
              "    }\n",
              "\n",
              "    [theme=dark] .colab-df-convert {\n",
              "      background-color: #3B4455;\n",
              "      fill: #D2E3FC;\n",
              "    }\n",
              "\n",
              "    [theme=dark] .colab-df-convert:hover {\n",
              "      background-color: #434B5C;\n",
              "      box-shadow: 0px 1px 3px 1px rgba(0, 0, 0, 0.15);\n",
              "      filter: drop-shadow(0px 1px 2px rgba(0, 0, 0, 0.3));\n",
              "      fill: #FFFFFF;\n",
              "    }\n",
              "  </style>\n",
              "\n",
              "      <script>\n",
              "        const buttonEl =\n",
              "          document.querySelector('#df-db2b48ac-2c3b-42e6-92f7-af38a6b97da1 button.colab-df-convert');\n",
              "        buttonEl.style.display =\n",
              "          google.colab.kernel.accessAllowed ? 'block' : 'none';\n",
              "\n",
              "        async function convertToInteractive(key) {\n",
              "          const element = document.querySelector('#df-db2b48ac-2c3b-42e6-92f7-af38a6b97da1');\n",
              "          const dataTable =\n",
              "            await google.colab.kernel.invokeFunction('convertToInteractive',\n",
              "                                                     [key], {});\n",
              "          if (!dataTable) return;\n",
              "\n",
              "          const docLinkHtml = 'Like what you see? Visit the ' +\n",
              "            '<a target=\"_blank\" href=https://colab.research.google.com/notebooks/data_table.ipynb>data table notebook</a>'\n",
              "            + ' to learn more about interactive tables.';\n",
              "          element.innerHTML = '';\n",
              "          dataTable['output_type'] = 'display_data';\n",
              "          await google.colab.output.renderOutput(dataTable, element);\n",
              "          const docLink = document.createElement('div');\n",
              "          docLink.innerHTML = docLinkHtml;\n",
              "          element.appendChild(docLink);\n",
              "        }\n",
              "      </script>\n",
              "    </div>\n",
              "  </div>\n",
              "  "
            ]
          },
          "metadata": {}
        },
        {
          "output_type": "stream",
          "name": "stdout",
          "text": [
            "\n",
            "\n"
          ]
        },
        {
          "output_type": "display_data",
          "data": {
            "text/plain": [
              "'Surabaya most Produk setiap Kategori ='"
            ],
            "application/vnd.google.colaboratory.intrinsic+json": {
              "type": "string"
            }
          },
          "metadata": {}
        },
        {
          "output_type": "display_data",
          "data": {
            "text/plain": [
              "        Kota       Kategori                                       Jenis Produk\n",
              "42  surabaya         Sweets  [9 Pcs Croffle, HOT AMERICANO, ICE AMERICANO, ...\n",
              "43  surabaya        Minuman  [Lychee Tea, Lemon Tea, Americano, Mango Yakul...\n",
              "44  surabaya        Chinese  [Nasi Putih, Nasi Goreng Seafood, Nasi Goreng ...\n",
              "45  surabaya     Aneka nasi  [Nasi Putih, Es Teh, Nasi Goreng Ayam, Es Jeru...\n",
              "46  surabaya           Roti  [Roti Tawar Kupas, Roti Tawar Kulit, Roti Kaca...\n",
              "47  surabaya        Seafood  [Cah Tauge, Apapun Makanannya... Ketik Salah S...\n",
              "48  surabaya          India                                                 []\n",
              "49  surabaya          Korea  [Saitama Saida, Okayama Cookies, Tokyo Locama,...\n",
              "50  surabaya       Thailand  [Tomyum Seafood, Padthai, Salad Pepaya Muda, N...\n",
              "51  surabaya   Bakso & soto  [Nasi Krengsengan, Sate Puyuh, Jus Alpukat, Es...\n",
              "52  surabaya   Ayam & bebek  [Es Teh, Nasi, Nasi Putih, Upgrade Butter Rice...\n",
              "53  surabaya       Martabak  [Biasa Keju Matcha, Biasa Keju Coklat Pisang, ...\n",
              "54  surabaya         Jepang  [Nasi Putih, Aburi Salmon Mentai, Kani Salad, ...\n",
              "55  surabaya           Kopi  [Americano, Cappucino, Vanilla Latte, Caramel ...\n",
              "56  surabaya     Cepat saji  [Es Milo, Chicken Burger, Hemat 2 Cheese, Ayam...\n",
              "57  surabaya  Pizza & pasta  [Beef Corn Large, Sea Food Medium, Super Supre...\n",
              "58  surabaya           Sate  [Sate Ayam, Snack Bantal Legendaris, Sate Dagi...\n",
              "59  surabaya          Barat  [Mineral Water, Cappucino Float, Coca Cola, Fr...\n",
              "60  surabaya   Timur Tengah  [Kebab Beef, Kebab Double Beef, Kebab Bratwurs...\n",
              "61  surabaya        Jajanan  [Es Teh, TOPPING OREO, TOPPING ALMOND SLICE, T...\n",
              "62  surabaya         Bakmie  [Es Teh, Milkshake Strawberry, Es Jeruk Nipis,..."
            ],
            "text/html": [
              "\n",
              "  <div id=\"df-01cd7258-6803-464f-9b61-c670d02c93ec\">\n",
              "    <div class=\"colab-df-container\">\n",
              "      <div>\n",
              "<style scoped>\n",
              "    .dataframe tbody tr th:only-of-type {\n",
              "        vertical-align: middle;\n",
              "    }\n",
              "\n",
              "    .dataframe tbody tr th {\n",
              "        vertical-align: top;\n",
              "    }\n",
              "\n",
              "    .dataframe thead th {\n",
              "        text-align: right;\n",
              "    }\n",
              "</style>\n",
              "<table border=\"1\" class=\"dataframe\">\n",
              "  <thead>\n",
              "    <tr style=\"text-align: right;\">\n",
              "      <th></th>\n",
              "      <th>Kota</th>\n",
              "      <th>Kategori</th>\n",
              "      <th>Jenis Produk</th>\n",
              "    </tr>\n",
              "  </thead>\n",
              "  <tbody>\n",
              "    <tr>\n",
              "      <th>42</th>\n",
              "      <td>surabaya</td>\n",
              "      <td>Sweets</td>\n",
              "      <td>[9 Pcs Croffle, HOT AMERICANO, ICE AMERICANO, ...</td>\n",
              "    </tr>\n",
              "    <tr>\n",
              "      <th>43</th>\n",
              "      <td>surabaya</td>\n",
              "      <td>Minuman</td>\n",
              "      <td>[Lychee Tea, Lemon Tea, Americano, Mango Yakul...</td>\n",
              "    </tr>\n",
              "    <tr>\n",
              "      <th>44</th>\n",
              "      <td>surabaya</td>\n",
              "      <td>Chinese</td>\n",
              "      <td>[Nasi Putih, Nasi Goreng Seafood, Nasi Goreng ...</td>\n",
              "    </tr>\n",
              "    <tr>\n",
              "      <th>45</th>\n",
              "      <td>surabaya</td>\n",
              "      <td>Aneka nasi</td>\n",
              "      <td>[Nasi Putih, Es Teh, Nasi Goreng Ayam, Es Jeru...</td>\n",
              "    </tr>\n",
              "    <tr>\n",
              "      <th>46</th>\n",
              "      <td>surabaya</td>\n",
              "      <td>Roti</td>\n",
              "      <td>[Roti Tawar Kupas, Roti Tawar Kulit, Roti Kaca...</td>\n",
              "    </tr>\n",
              "    <tr>\n",
              "      <th>47</th>\n",
              "      <td>surabaya</td>\n",
              "      <td>Seafood</td>\n",
              "      <td>[Cah Tauge, Apapun Makanannya... Ketik Salah S...</td>\n",
              "    </tr>\n",
              "    <tr>\n",
              "      <th>48</th>\n",
              "      <td>surabaya</td>\n",
              "      <td>India</td>\n",
              "      <td>[]</td>\n",
              "    </tr>\n",
              "    <tr>\n",
              "      <th>49</th>\n",
              "      <td>surabaya</td>\n",
              "      <td>Korea</td>\n",
              "      <td>[Saitama Saida, Okayama Cookies, Tokyo Locama,...</td>\n",
              "    </tr>\n",
              "    <tr>\n",
              "      <th>50</th>\n",
              "      <td>surabaya</td>\n",
              "      <td>Thailand</td>\n",
              "      <td>[Tomyum Seafood, Padthai, Salad Pepaya Muda, N...</td>\n",
              "    </tr>\n",
              "    <tr>\n",
              "      <th>51</th>\n",
              "      <td>surabaya</td>\n",
              "      <td>Bakso &amp; soto</td>\n",
              "      <td>[Nasi Krengsengan, Sate Puyuh, Jus Alpukat, Es...</td>\n",
              "    </tr>\n",
              "    <tr>\n",
              "      <th>52</th>\n",
              "      <td>surabaya</td>\n",
              "      <td>Ayam &amp; bebek</td>\n",
              "      <td>[Es Teh, Nasi, Nasi Putih, Upgrade Butter Rice...</td>\n",
              "    </tr>\n",
              "    <tr>\n",
              "      <th>53</th>\n",
              "      <td>surabaya</td>\n",
              "      <td>Martabak</td>\n",
              "      <td>[Biasa Keju Matcha, Biasa Keju Coklat Pisang, ...</td>\n",
              "    </tr>\n",
              "    <tr>\n",
              "      <th>54</th>\n",
              "      <td>surabaya</td>\n",
              "      <td>Jepang</td>\n",
              "      <td>[Nasi Putih, Aburi Salmon Mentai, Kani Salad, ...</td>\n",
              "    </tr>\n",
              "    <tr>\n",
              "      <th>55</th>\n",
              "      <td>surabaya</td>\n",
              "      <td>Kopi</td>\n",
              "      <td>[Americano, Cappucino, Vanilla Latte, Caramel ...</td>\n",
              "    </tr>\n",
              "    <tr>\n",
              "      <th>56</th>\n",
              "      <td>surabaya</td>\n",
              "      <td>Cepat saji</td>\n",
              "      <td>[Es Milo, Chicken Burger, Hemat 2 Cheese, Ayam...</td>\n",
              "    </tr>\n",
              "    <tr>\n",
              "      <th>57</th>\n",
              "      <td>surabaya</td>\n",
              "      <td>Pizza &amp; pasta</td>\n",
              "      <td>[Beef Corn Large, Sea Food Medium, Super Supre...</td>\n",
              "    </tr>\n",
              "    <tr>\n",
              "      <th>58</th>\n",
              "      <td>surabaya</td>\n",
              "      <td>Sate</td>\n",
              "      <td>[Sate Ayam, Snack Bantal Legendaris, Sate Dagi...</td>\n",
              "    </tr>\n",
              "    <tr>\n",
              "      <th>59</th>\n",
              "      <td>surabaya</td>\n",
              "      <td>Barat</td>\n",
              "      <td>[Mineral Water, Cappucino Float, Coca Cola, Fr...</td>\n",
              "    </tr>\n",
              "    <tr>\n",
              "      <th>60</th>\n",
              "      <td>surabaya</td>\n",
              "      <td>Timur Tengah</td>\n",
              "      <td>[Kebab Beef, Kebab Double Beef, Kebab Bratwurs...</td>\n",
              "    </tr>\n",
              "    <tr>\n",
              "      <th>61</th>\n",
              "      <td>surabaya</td>\n",
              "      <td>Jajanan</td>\n",
              "      <td>[Es Teh, TOPPING OREO, TOPPING ALMOND SLICE, T...</td>\n",
              "    </tr>\n",
              "    <tr>\n",
              "      <th>62</th>\n",
              "      <td>surabaya</td>\n",
              "      <td>Bakmie</td>\n",
              "      <td>[Es Teh, Milkshake Strawberry, Es Jeruk Nipis,...</td>\n",
              "    </tr>\n",
              "  </tbody>\n",
              "</table>\n",
              "</div>\n",
              "      <button class=\"colab-df-convert\" onclick=\"convertToInteractive('df-01cd7258-6803-464f-9b61-c670d02c93ec')\"\n",
              "              title=\"Convert this dataframe to an interactive table.\"\n",
              "              style=\"display:none;\">\n",
              "        \n",
              "  <svg xmlns=\"http://www.w3.org/2000/svg\" height=\"24px\"viewBox=\"0 0 24 24\"\n",
              "       width=\"24px\">\n",
              "    <path d=\"M0 0h24v24H0V0z\" fill=\"none\"/>\n",
              "    <path d=\"M18.56 5.44l.94 2.06.94-2.06 2.06-.94-2.06-.94-.94-2.06-.94 2.06-2.06.94zm-11 1L8.5 8.5l.94-2.06 2.06-.94-2.06-.94L8.5 2.5l-.94 2.06-2.06.94zm10 10l.94 2.06.94-2.06 2.06-.94-2.06-.94-.94-2.06-.94 2.06-2.06.94z\"/><path d=\"M17.41 7.96l-1.37-1.37c-.4-.4-.92-.59-1.43-.59-.52 0-1.04.2-1.43.59L10.3 9.45l-7.72 7.72c-.78.78-.78 2.05 0 2.83L4 21.41c.39.39.9.59 1.41.59.51 0 1.02-.2 1.41-.59l7.78-7.78 2.81-2.81c.8-.78.8-2.07 0-2.86zM5.41 20L4 18.59l7.72-7.72 1.47 1.35L5.41 20z\"/>\n",
              "  </svg>\n",
              "      </button>\n",
              "      \n",
              "  <style>\n",
              "    .colab-df-container {\n",
              "      display:flex;\n",
              "      flex-wrap:wrap;\n",
              "      gap: 12px;\n",
              "    }\n",
              "\n",
              "    .colab-df-convert {\n",
              "      background-color: #E8F0FE;\n",
              "      border: none;\n",
              "      border-radius: 50%;\n",
              "      cursor: pointer;\n",
              "      display: none;\n",
              "      fill: #1967D2;\n",
              "      height: 32px;\n",
              "      padding: 0 0 0 0;\n",
              "      width: 32px;\n",
              "    }\n",
              "\n",
              "    .colab-df-convert:hover {\n",
              "      background-color: #E2EBFA;\n",
              "      box-shadow: 0px 1px 2px rgba(60, 64, 67, 0.3), 0px 1px 3px 1px rgba(60, 64, 67, 0.15);\n",
              "      fill: #174EA6;\n",
              "    }\n",
              "\n",
              "    [theme=dark] .colab-df-convert {\n",
              "      background-color: #3B4455;\n",
              "      fill: #D2E3FC;\n",
              "    }\n",
              "\n",
              "    [theme=dark] .colab-df-convert:hover {\n",
              "      background-color: #434B5C;\n",
              "      box-shadow: 0px 1px 3px 1px rgba(0, 0, 0, 0.15);\n",
              "      filter: drop-shadow(0px 1px 2px rgba(0, 0, 0, 0.3));\n",
              "      fill: #FFFFFF;\n",
              "    }\n",
              "  </style>\n",
              "\n",
              "      <script>\n",
              "        const buttonEl =\n",
              "          document.querySelector('#df-01cd7258-6803-464f-9b61-c670d02c93ec button.colab-df-convert');\n",
              "        buttonEl.style.display =\n",
              "          google.colab.kernel.accessAllowed ? 'block' : 'none';\n",
              "\n",
              "        async function convertToInteractive(key) {\n",
              "          const element = document.querySelector('#df-01cd7258-6803-464f-9b61-c670d02c93ec');\n",
              "          const dataTable =\n",
              "            await google.colab.kernel.invokeFunction('convertToInteractive',\n",
              "                                                     [key], {});\n",
              "          if (!dataTable) return;\n",
              "\n",
              "          const docLinkHtml = 'Like what you see? Visit the ' +\n",
              "            '<a target=\"_blank\" href=https://colab.research.google.com/notebooks/data_table.ipynb>data table notebook</a>'\n",
              "            + ' to learn more about interactive tables.';\n",
              "          element.innerHTML = '';\n",
              "          dataTable['output_type'] = 'display_data';\n",
              "          await google.colab.output.renderOutput(dataTable, element);\n",
              "          const docLink = document.createElement('div');\n",
              "          docLink.innerHTML = docLinkHtml;\n",
              "          element.appendChild(docLink);\n",
              "        }\n",
              "      </script>\n",
              "    </div>\n",
              "  </div>\n",
              "  "
            ]
          },
          "metadata": {}
        }
      ]
    },
    {
      "cell_type": "code",
      "source": [
        "df['product'].head(10)"
      ],
      "metadata": {
        "colab": {
          "base_uri": "https://localhost:8080/"
        },
        "id": "paFWHSh5njuP",
        "outputId": "0ff06611-d776-4063-afc5-4a6c86d4fc60"
      },
      "execution_count": null,
      "outputs": [
        {
          "output_type": "execute_result",
          "data": {
            "text/plain": [
              "0    Hot Almara Kopi (kopi Susu Gula Aren)\n",
              "1    Ice Almara Kopi (kopi Susu Gula Aren)\n",
              "2                              Hot Millsis\n",
              "3                              Ice Millsis\n",
              "4                              Hot Millbro\n",
              "5                              Ice Millbro\n",
              "6                          Hot 330 Helateh\n",
              "7                          Ice 330 Helateh\n",
              "8                           Hot Ilusi Kopi\n",
              "9                           Ice Ilusi Kopi\n",
              "Name: product, dtype: object"
            ]
          },
          "metadata": {},
          "execution_count": 88
        }
      ]
    }
  ]
}